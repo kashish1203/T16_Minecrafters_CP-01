{
  "nbformat": 4,
  "nbformat_minor": 0,
  "metadata": {
    "colab": {
      "provenance": [],
      "collapsed_sections": [
        "sCfd8LE2i7pw",
        "ujtlixgLjFWN",
        "OhCL5NeFmYoX",
        "jv5Os9TsjWbB",
        "b1u5o4mtXlPI",
        "XDsNYoAFX2KH"
      ],
      "authorship_tag": "ABX9TyM3V3QHac0glwV11xtQZzFQ",
      "include_colab_link": true
    },
    "kernelspec": {
      "name": "python3",
      "display_name": "Python 3"
    },
    "language_info": {
      "name": "python"
    }
  },
  "cells": [
    {
      "cell_type": "markdown",
      "metadata": {
        "id": "view-in-github",
        "colab_type": "text"
      },
      "source": [
        "<a href=\"https://colab.research.google.com/github/kashish1203/minecrafters/blob/Chinmaya/MineCrafters_Chinmaya.ipynb\" target=\"_parent\"><img src=\"https://colab.research.google.com/assets/colab-badge.svg\" alt=\"Open In Colab\"/></a>"
      ]
    },
    {
      "cell_type": "markdown",
      "source": [
        "**Course Project - 01: Data Preprocessing, EDA and Regression Analysis**"
      ],
      "metadata": {
        "id": "6cP3y5UfiY6E"
      }
    },
    {
      "cell_type": "markdown",
      "source": [
        "**Project Tasks**"
      ],
      "metadata": {
        "id": "ki5akscfijD6"
      }
    },
    {
      "cell_type": "markdown",
      "source": [
        "## **Exploratory Data Analysis (EDA) & Preprocessing:**\n",
        "\n",
        "T1. Explore the dataset assigned to your team and provide:"
      ],
      "metadata": {
        "id": "sCfd8LE2i7pw"
      }
    },
    {
      "cell_type": "markdown",
      "source": [
        "\n",
        "### a. A summary of the dataset (should include information columns present, attribute types, null values, and a summary of each attribute)."
      ],
      "metadata": {
        "id": "ujtlixgLjFWN"
      }
    },
    {
      "cell_type": "markdown",
      "source": [
        "**Data Source:** The data is collected from analogue and digital sensors installed on the APU(Air Processing Unit) of a metro train's compressor. These sensors monitor different aspects of the compressor's operation.\n",
        "\n",
        "**Sensors:** The dataset includes readings from the following sensors:\n",
        "\n",
        "- **Pressure Sensor:**Monitors pressure levels within the APU.\n",
        "- **Temperature Sensor:** Measures the temperature of the APU.\n",
        "- **Motor Current Sensor:** Records the electrical current consumed by the compressor's motor.\n",
        "- **Air Intake Valve Sensor:** Monitors the status or position of the air intake valve.\n"
      ],
      "metadata": {
        "id": "B_a1niGsj8jK"
      }
    },
    {
      "cell_type": "markdown",
      "source": [
        "**What is APU?**\\\n",
        "-- An APU, or Air Processing Unit, in the context of a metro train's compressor, refers to a component that plays a crucial role in providing clean and conditioned air for various systems within the train. The APU is responsible for filtering, cooling, and sometimes heating the air before it is distributed to different parts of the train, ensuring a comfortable and safe environment for passengers and crew."
      ],
      "metadata": {
        "id": "7-pk-IY8kMcq"
      }
    },
    {
      "cell_type": "code",
      "source": [
        "#Importing Required Libraries\n",
        "import pandas as pd\n",
        "import numpy as np"
      ],
      "metadata": {
        "id": "wjkRJqrhjE5g"
      },
      "execution_count": null,
      "outputs": []
    },
    {
      "cell_type": "code",
      "source": [
        "# Mounting Google drive to fetch dataset\n",
        "from google.colab import drive\n",
        "drive.mount('/content/drive')"
      ],
      "metadata": {
        "colab": {
          "base_uri": "https://localhost:8080/"
        },
        "id": "As5nQ3X9kcUX",
        "outputId": "b9a2ceb6-8165-4192-fcc4-60bfc6e19f39"
      },
      "execution_count": null,
      "outputs": [
        {
          "output_type": "stream",
          "name": "stdout",
          "text": [
            "Mounted at /content/drive\n"
          ]
        }
      ]
    },
    {
      "cell_type": "code",
      "source": [
        "# Loading the dataset\n",
        "df = pd.read_csv('/content/drive/MyDrive/MetroPT3(AirCompressor).csv')"
      ],
      "metadata": {
        "id": "Bpr-k-6Mkqt7"
      },
      "execution_count": null,
      "outputs": []
    },
    {
      "cell_type": "code",
      "source": [
        "# Getting first five instances of dataset\n",
        "df.head(5)"
      ],
      "metadata": {
        "colab": {
          "base_uri": "https://localhost:8080/"
        },
        "id": "lrAo33MskzUh",
        "outputId": "51941b94-bb09-4a8a-badb-7efafaaa9cb5"
      },
      "execution_count": null,
      "outputs": [
        {
          "output_type": "execute_result",
          "data": {
            "text/plain": [
              "   Unnamed: 0            timestamp    TP2    TP3     H1  DV_pressure  \\\n",
              "0           0  2020-02-01 00:00:00 -0.012  9.358  9.340       -0.024   \n",
              "1          10  2020-02-01 00:00:10 -0.014  9.348  9.332       -0.022   \n",
              "2          20  2020-02-01 00:00:19 -0.012  9.338  9.322       -0.022   \n",
              "3          30  2020-02-01 00:00:29 -0.012  9.328  9.312       -0.022   \n",
              "4          40  2020-02-01 00:00:39 -0.012  9.318  9.302       -0.022   \n",
              "\n",
              "   Reservoirs  Oil_temperature  Motor_current  COMP  DV_eletric  Towers  MPG  \\\n",
              "0       9.358           53.600         0.0400   1.0         0.0     1.0  1.0   \n",
              "1       9.348           53.675         0.0400   1.0         0.0     1.0  1.0   \n",
              "2       9.338           53.600         0.0425   1.0         0.0     1.0  1.0   \n",
              "3       9.328           53.425         0.0400   1.0         0.0     1.0  1.0   \n",
              "4       9.318           53.475         0.0400   1.0         0.0     1.0  1.0   \n",
              "\n",
              "   LPS  Pressure_switch  Oil_level  Caudal_impulses  \n",
              "0  0.0              1.0        1.0              1.0  \n",
              "1  0.0              1.0        1.0              1.0  \n",
              "2  0.0              1.0        1.0              1.0  \n",
              "3  0.0              1.0        1.0              1.0  \n",
              "4  0.0              1.0        1.0              1.0  "
            ],
            "text/html": [
              "\n",
              "  <div id=\"df-a3545904-64fe-4290-b502-766a1243b7f7\" class=\"colab-df-container\">\n",
              "    <div>\n",
              "<style scoped>\n",
              "    .dataframe tbody tr th:only-of-type {\n",
              "        vertical-align: middle;\n",
              "    }\n",
              "\n",
              "    .dataframe tbody tr th {\n",
              "        vertical-align: top;\n",
              "    }\n",
              "\n",
              "    .dataframe thead th {\n",
              "        text-align: right;\n",
              "    }\n",
              "</style>\n",
              "<table border=\"1\" class=\"dataframe\">\n",
              "  <thead>\n",
              "    <tr style=\"text-align: right;\">\n",
              "      <th></th>\n",
              "      <th>Unnamed: 0</th>\n",
              "      <th>timestamp</th>\n",
              "      <th>TP2</th>\n",
              "      <th>TP3</th>\n",
              "      <th>H1</th>\n",
              "      <th>DV_pressure</th>\n",
              "      <th>Reservoirs</th>\n",
              "      <th>Oil_temperature</th>\n",
              "      <th>Motor_current</th>\n",
              "      <th>COMP</th>\n",
              "      <th>DV_eletric</th>\n",
              "      <th>Towers</th>\n",
              "      <th>MPG</th>\n",
              "      <th>LPS</th>\n",
              "      <th>Pressure_switch</th>\n",
              "      <th>Oil_level</th>\n",
              "      <th>Caudal_impulses</th>\n",
              "    </tr>\n",
              "  </thead>\n",
              "  <tbody>\n",
              "    <tr>\n",
              "      <th>0</th>\n",
              "      <td>0</td>\n",
              "      <td>2020-02-01 00:00:00</td>\n",
              "      <td>-0.012</td>\n",
              "      <td>9.358</td>\n",
              "      <td>9.340</td>\n",
              "      <td>-0.024</td>\n",
              "      <td>9.358</td>\n",
              "      <td>53.600</td>\n",
              "      <td>0.0400</td>\n",
              "      <td>1.0</td>\n",
              "      <td>0.0</td>\n",
              "      <td>1.0</td>\n",
              "      <td>1.0</td>\n",
              "      <td>0.0</td>\n",
              "      <td>1.0</td>\n",
              "      <td>1.0</td>\n",
              "      <td>1.0</td>\n",
              "    </tr>\n",
              "    <tr>\n",
              "      <th>1</th>\n",
              "      <td>10</td>\n",
              "      <td>2020-02-01 00:00:10</td>\n",
              "      <td>-0.014</td>\n",
              "      <td>9.348</td>\n",
              "      <td>9.332</td>\n",
              "      <td>-0.022</td>\n",
              "      <td>9.348</td>\n",
              "      <td>53.675</td>\n",
              "      <td>0.0400</td>\n",
              "      <td>1.0</td>\n",
              "      <td>0.0</td>\n",
              "      <td>1.0</td>\n",
              "      <td>1.0</td>\n",
              "      <td>0.0</td>\n",
              "      <td>1.0</td>\n",
              "      <td>1.0</td>\n",
              "      <td>1.0</td>\n",
              "    </tr>\n",
              "    <tr>\n",
              "      <th>2</th>\n",
              "      <td>20</td>\n",
              "      <td>2020-02-01 00:00:19</td>\n",
              "      <td>-0.012</td>\n",
              "      <td>9.338</td>\n",
              "      <td>9.322</td>\n",
              "      <td>-0.022</td>\n",
              "      <td>9.338</td>\n",
              "      <td>53.600</td>\n",
              "      <td>0.0425</td>\n",
              "      <td>1.0</td>\n",
              "      <td>0.0</td>\n",
              "      <td>1.0</td>\n",
              "      <td>1.0</td>\n",
              "      <td>0.0</td>\n",
              "      <td>1.0</td>\n",
              "      <td>1.0</td>\n",
              "      <td>1.0</td>\n",
              "    </tr>\n",
              "    <tr>\n",
              "      <th>3</th>\n",
              "      <td>30</td>\n",
              "      <td>2020-02-01 00:00:29</td>\n",
              "      <td>-0.012</td>\n",
              "      <td>9.328</td>\n",
              "      <td>9.312</td>\n",
              "      <td>-0.022</td>\n",
              "      <td>9.328</td>\n",
              "      <td>53.425</td>\n",
              "      <td>0.0400</td>\n",
              "      <td>1.0</td>\n",
              "      <td>0.0</td>\n",
              "      <td>1.0</td>\n",
              "      <td>1.0</td>\n",
              "      <td>0.0</td>\n",
              "      <td>1.0</td>\n",
              "      <td>1.0</td>\n",
              "      <td>1.0</td>\n",
              "    </tr>\n",
              "    <tr>\n",
              "      <th>4</th>\n",
              "      <td>40</td>\n",
              "      <td>2020-02-01 00:00:39</td>\n",
              "      <td>-0.012</td>\n",
              "      <td>9.318</td>\n",
              "      <td>9.302</td>\n",
              "      <td>-0.022</td>\n",
              "      <td>9.318</td>\n",
              "      <td>53.475</td>\n",
              "      <td>0.0400</td>\n",
              "      <td>1.0</td>\n",
              "      <td>0.0</td>\n",
              "      <td>1.0</td>\n",
              "      <td>1.0</td>\n",
              "      <td>0.0</td>\n",
              "      <td>1.0</td>\n",
              "      <td>1.0</td>\n",
              "      <td>1.0</td>\n",
              "    </tr>\n",
              "  </tbody>\n",
              "</table>\n",
              "</div>\n",
              "    <div class=\"colab-df-buttons\">\n",
              "\n",
              "  <div class=\"colab-df-container\">\n",
              "    <button class=\"colab-df-convert\" onclick=\"convertToInteractive('df-a3545904-64fe-4290-b502-766a1243b7f7')\"\n",
              "            title=\"Convert this dataframe to an interactive table.\"\n",
              "            style=\"display:none;\">\n",
              "\n",
              "  <svg xmlns=\"http://www.w3.org/2000/svg\" height=\"24px\" viewBox=\"0 -960 960 960\">\n",
              "    <path d=\"M120-120v-720h720v720H120Zm60-500h600v-160H180v160Zm220 220h160v-160H400v160Zm0 220h160v-160H400v160ZM180-400h160v-160H180v160Zm440 0h160v-160H620v160ZM180-180h160v-160H180v160Zm440 0h160v-160H620v160Z\"/>\n",
              "  </svg>\n",
              "    </button>\n",
              "\n",
              "  <style>\n",
              "    .colab-df-container {\n",
              "      display:flex;\n",
              "      gap: 12px;\n",
              "    }\n",
              "\n",
              "    .colab-df-convert {\n",
              "      background-color: #E8F0FE;\n",
              "      border: none;\n",
              "      border-radius: 50%;\n",
              "      cursor: pointer;\n",
              "      display: none;\n",
              "      fill: #1967D2;\n",
              "      height: 32px;\n",
              "      padding: 0 0 0 0;\n",
              "      width: 32px;\n",
              "    }\n",
              "\n",
              "    .colab-df-convert:hover {\n",
              "      background-color: #E2EBFA;\n",
              "      box-shadow: 0px 1px 2px rgba(60, 64, 67, 0.3), 0px 1px 3px 1px rgba(60, 64, 67, 0.15);\n",
              "      fill: #174EA6;\n",
              "    }\n",
              "\n",
              "    .colab-df-buttons div {\n",
              "      margin-bottom: 4px;\n",
              "    }\n",
              "\n",
              "    [theme=dark] .colab-df-convert {\n",
              "      background-color: #3B4455;\n",
              "      fill: #D2E3FC;\n",
              "    }\n",
              "\n",
              "    [theme=dark] .colab-df-convert:hover {\n",
              "      background-color: #434B5C;\n",
              "      box-shadow: 0px 1px 3px 1px rgba(0, 0, 0, 0.15);\n",
              "      filter: drop-shadow(0px 1px 2px rgba(0, 0, 0, 0.3));\n",
              "      fill: #FFFFFF;\n",
              "    }\n",
              "  </style>\n",
              "\n",
              "    <script>\n",
              "      const buttonEl =\n",
              "        document.querySelector('#df-a3545904-64fe-4290-b502-766a1243b7f7 button.colab-df-convert');\n",
              "      buttonEl.style.display =\n",
              "        google.colab.kernel.accessAllowed ? 'block' : 'none';\n",
              "\n",
              "      async function convertToInteractive(key) {\n",
              "        const element = document.querySelector('#df-a3545904-64fe-4290-b502-766a1243b7f7');\n",
              "        const dataTable =\n",
              "          await google.colab.kernel.invokeFunction('convertToInteractive',\n",
              "                                                    [key], {});\n",
              "        if (!dataTable) return;\n",
              "\n",
              "        const docLinkHtml = 'Like what you see? Visit the ' +\n",
              "          '<a target=\"_blank\" href=https://colab.research.google.com/notebooks/data_table.ipynb>data table notebook</a>'\n",
              "          + ' to learn more about interactive tables.';\n",
              "        element.innerHTML = '';\n",
              "        dataTable['output_type'] = 'display_data';\n",
              "        await google.colab.output.renderOutput(dataTable, element);\n",
              "        const docLink = document.createElement('div');\n",
              "        docLink.innerHTML = docLinkHtml;\n",
              "        element.appendChild(docLink);\n",
              "      }\n",
              "    </script>\n",
              "  </div>\n",
              "\n",
              "\n",
              "<div id=\"df-dae4751d-1917-4ac2-9b94-af45dee77fbc\">\n",
              "  <button class=\"colab-df-quickchart\" onclick=\"quickchart('df-dae4751d-1917-4ac2-9b94-af45dee77fbc')\"\n",
              "            title=\"Suggest charts.\"\n",
              "            style=\"display:none;\">\n",
              "\n",
              "<svg xmlns=\"http://www.w3.org/2000/svg\" height=\"24px\"viewBox=\"0 0 24 24\"\n",
              "     width=\"24px\">\n",
              "    <g>\n",
              "        <path d=\"M19 3H5c-1.1 0-2 .9-2 2v14c0 1.1.9 2 2 2h14c1.1 0 2-.9 2-2V5c0-1.1-.9-2-2-2zM9 17H7v-7h2v7zm4 0h-2V7h2v10zm4 0h-2v-4h2v4z\"/>\n",
              "    </g>\n",
              "</svg>\n",
              "  </button>\n",
              "\n",
              "<style>\n",
              "  .colab-df-quickchart {\n",
              "      --bg-color: #E8F0FE;\n",
              "      --fill-color: #1967D2;\n",
              "      --hover-bg-color: #E2EBFA;\n",
              "      --hover-fill-color: #174EA6;\n",
              "      --disabled-fill-color: #AAA;\n",
              "      --disabled-bg-color: #DDD;\n",
              "  }\n",
              "\n",
              "  [theme=dark] .colab-df-quickchart {\n",
              "      --bg-color: #3B4455;\n",
              "      --fill-color: #D2E3FC;\n",
              "      --hover-bg-color: #434B5C;\n",
              "      --hover-fill-color: #FFFFFF;\n",
              "      --disabled-bg-color: #3B4455;\n",
              "      --disabled-fill-color: #666;\n",
              "  }\n",
              "\n",
              "  .colab-df-quickchart {\n",
              "    background-color: var(--bg-color);\n",
              "    border: none;\n",
              "    border-radius: 50%;\n",
              "    cursor: pointer;\n",
              "    display: none;\n",
              "    fill: var(--fill-color);\n",
              "    height: 32px;\n",
              "    padding: 0;\n",
              "    width: 32px;\n",
              "  }\n",
              "\n",
              "  .colab-df-quickchart:hover {\n",
              "    background-color: var(--hover-bg-color);\n",
              "    box-shadow: 0 1px 2px rgba(60, 64, 67, 0.3), 0 1px 3px 1px rgba(60, 64, 67, 0.15);\n",
              "    fill: var(--button-hover-fill-color);\n",
              "  }\n",
              "\n",
              "  .colab-df-quickchart-complete:disabled,\n",
              "  .colab-df-quickchart-complete:disabled:hover {\n",
              "    background-color: var(--disabled-bg-color);\n",
              "    fill: var(--disabled-fill-color);\n",
              "    box-shadow: none;\n",
              "  }\n",
              "\n",
              "  .colab-df-spinner {\n",
              "    border: 2px solid var(--fill-color);\n",
              "    border-color: transparent;\n",
              "    border-bottom-color: var(--fill-color);\n",
              "    animation:\n",
              "      spin 1s steps(1) infinite;\n",
              "  }\n",
              "\n",
              "  @keyframes spin {\n",
              "    0% {\n",
              "      border-color: transparent;\n",
              "      border-bottom-color: var(--fill-color);\n",
              "      border-left-color: var(--fill-color);\n",
              "    }\n",
              "    20% {\n",
              "      border-color: transparent;\n",
              "      border-left-color: var(--fill-color);\n",
              "      border-top-color: var(--fill-color);\n",
              "    }\n",
              "    30% {\n",
              "      border-color: transparent;\n",
              "      border-left-color: var(--fill-color);\n",
              "      border-top-color: var(--fill-color);\n",
              "      border-right-color: var(--fill-color);\n",
              "    }\n",
              "    40% {\n",
              "      border-color: transparent;\n",
              "      border-right-color: var(--fill-color);\n",
              "      border-top-color: var(--fill-color);\n",
              "    }\n",
              "    60% {\n",
              "      border-color: transparent;\n",
              "      border-right-color: var(--fill-color);\n",
              "    }\n",
              "    80% {\n",
              "      border-color: transparent;\n",
              "      border-right-color: var(--fill-color);\n",
              "      border-bottom-color: var(--fill-color);\n",
              "    }\n",
              "    90% {\n",
              "      border-color: transparent;\n",
              "      border-bottom-color: var(--fill-color);\n",
              "    }\n",
              "  }\n",
              "</style>\n",
              "\n",
              "  <script>\n",
              "    async function quickchart(key) {\n",
              "      const quickchartButtonEl =\n",
              "        document.querySelector('#' + key + ' button');\n",
              "      quickchartButtonEl.disabled = true;  // To prevent multiple clicks.\n",
              "      quickchartButtonEl.classList.add('colab-df-spinner');\n",
              "      try {\n",
              "        const charts = await google.colab.kernel.invokeFunction(\n",
              "            'suggestCharts', [key], {});\n",
              "      } catch (error) {\n",
              "        console.error('Error during call to suggestCharts:', error);\n",
              "      }\n",
              "      quickchartButtonEl.classList.remove('colab-df-spinner');\n",
              "      quickchartButtonEl.classList.add('colab-df-quickchart-complete');\n",
              "    }\n",
              "    (() => {\n",
              "      let quickchartButtonEl =\n",
              "        document.querySelector('#df-dae4751d-1917-4ac2-9b94-af45dee77fbc button');\n",
              "      quickchartButtonEl.style.display =\n",
              "        google.colab.kernel.accessAllowed ? 'block' : 'none';\n",
              "    })();\n",
              "  </script>\n",
              "</div>\n",
              "    </div>\n",
              "  </div>\n"
            ]
          },
          "metadata": {},
          "execution_count": 4
        }
      ]
    },
    {
      "cell_type": "code",
      "source": [
        "# Getting the shape of dataset\n",
        "df.shape"
      ],
      "metadata": {
        "colab": {
          "base_uri": "https://localhost:8080/"
        },
        "id": "s-LbfiuBlJQj",
        "outputId": "4aa62e2e-90ca-4b47-f253-83fca1781ef8"
      },
      "execution_count": null,
      "outputs": [
        {
          "output_type": "execute_result",
          "data": {
            "text/plain": [
              "(1516948, 17)"
            ]
          },
          "metadata": {},
          "execution_count": 5
        }
      ]
    },
    {
      "cell_type": "code",
      "source": [
        "# Getting the names of columns present in the dataset\n",
        "df.columns"
      ],
      "metadata": {
        "colab": {
          "base_uri": "https://localhost:8080/"
        },
        "id": "GudPrYUklQlb",
        "outputId": "bc474a1e-6927-4c8d-f22a-e50168d55f0a"
      },
      "execution_count": null,
      "outputs": [
        {
          "output_type": "execute_result",
          "data": {
            "text/plain": [
              "Index(['Unnamed: 0', 'timestamp', 'TP2', 'TP3', 'H1', 'DV_pressure',\n",
              "       'Reservoirs', 'Oil_temperature', 'Motor_current', 'COMP', 'DV_eletric',\n",
              "       'Towers', 'MPG', 'LPS', 'Pressure_switch', 'Oil_level',\n",
              "       'Caudal_impulses'],\n",
              "      dtype='object')"
            ]
          },
          "metadata": {},
          "execution_count": 6
        }
      ]
    },
    {
      "cell_type": "code",
      "source": [
        "# Getting column/attribute type\n",
        "df.dtypes"
      ],
      "metadata": {
        "colab": {
          "base_uri": "https://localhost:8080/"
        },
        "id": "WDkSOqyJlbgz",
        "outputId": "98684e5a-b3c9-4202-b171-a2de2babdb00"
      },
      "execution_count": null,
      "outputs": [
        {
          "output_type": "execute_result",
          "data": {
            "text/plain": [
              "Unnamed: 0           int64\n",
              "timestamp           object\n",
              "TP2                float64\n",
              "TP3                float64\n",
              "H1                 float64\n",
              "DV_pressure        float64\n",
              "Reservoirs         float64\n",
              "Oil_temperature    float64\n",
              "Motor_current      float64\n",
              "COMP               float64\n",
              "DV_eletric         float64\n",
              "Towers             float64\n",
              "MPG                float64\n",
              "LPS                float64\n",
              "Pressure_switch    float64\n",
              "Oil_level          float64\n",
              "Caudal_impulses    float64\n",
              "dtype: object"
            ]
          },
          "metadata": {},
          "execution_count": 7
        }
      ]
    },
    {
      "cell_type": "markdown",
      "source": [
        "Only one categorical variable \"timestamp\" and rest are numerical variables/attributes.\\\n",
        "**No need for Encoding**"
      ],
      "metadata": {
        "id": "EPrfLUxmls5f"
      }
    },
    {
      "cell_type": "markdown",
      "source": [
        "### Pre-Processing\n"
      ],
      "metadata": {
        "id": "OhCL5NeFmYoX"
      }
    },
    {
      "cell_type": "code",
      "source": [
        "# Checking null values\n",
        "df.isnull().sum()"
      ],
      "metadata": {
        "colab": {
          "base_uri": "https://localhost:8080/"
        },
        "id": "T7iyDlIVl0QI",
        "outputId": "e252c8f1-3f6d-46e5-d7a1-1c7a5158c564"
      },
      "execution_count": null,
      "outputs": [
        {
          "output_type": "execute_result",
          "data": {
            "text/plain": [
              "Unnamed: 0         0\n",
              "timestamp          0\n",
              "TP2                0\n",
              "TP3                0\n",
              "H1                 0\n",
              "DV_pressure        0\n",
              "Reservoirs         0\n",
              "Oil_temperature    0\n",
              "Motor_current      0\n",
              "COMP               0\n",
              "DV_eletric         0\n",
              "Towers             0\n",
              "MPG                0\n",
              "LPS                0\n",
              "Pressure_switch    0\n",
              "Oil_level          0\n",
              "Caudal_impulses    0\n",
              "dtype: int64"
            ]
          },
          "metadata": {},
          "execution_count": 8
        }
      ]
    },
    {
      "cell_type": "markdown",
      "source": [
        "**No null values are present.**"
      ],
      "metadata": {
        "id": "-C3KsZL5l6nV"
      }
    },
    {
      "cell_type": "code",
      "source": [
        "#Checking duplicate rows\n",
        "df.duplicated().sum()"
      ],
      "metadata": {
        "colab": {
          "base_uri": "https://localhost:8080/"
        },
        "id": "bYNjrf_4meqX",
        "outputId": "1856aced-6129-4429-e366-00de7d22221f"
      },
      "execution_count": null,
      "outputs": [
        {
          "output_type": "execute_result",
          "data": {
            "text/plain": [
              "0"
            ]
          },
          "metadata": {},
          "execution_count": 9
        }
      ]
    },
    {
      "cell_type": "markdown",
      "source": [
        "**No Duplicate Instances are present.**"
      ],
      "metadata": {
        "id": "1DvkgmPEmkQQ"
      }
    },
    {
      "cell_type": "code",
      "source": [
        "# Dropping Unnecessary columns\n",
        "df.drop(['Unnamed: 0'], axis=1, inplace=True)"
      ],
      "metadata": {
        "id": "P6CpEWC3mit9"
      },
      "execution_count": null,
      "outputs": []
    },
    {
      "cell_type": "code",
      "source": [
        "# Converting timestamp to datetime format for time-series analysis\n",
        "df['timestamp'] = pd.to_datetime(df['timestamp'])"
      ],
      "metadata": {
        "id": "8C9FidwNmwLl"
      },
      "execution_count": null,
      "outputs": []
    },
    {
      "cell_type": "code",
      "source": [
        "df['timestamp']"
      ],
      "metadata": {
        "colab": {
          "base_uri": "https://localhost:8080/"
        },
        "id": "sdG6_ONnmxrv",
        "outputId": "c39affc2-6aac-40cb-b0c6-d4895b3a6da8"
      },
      "execution_count": null,
      "outputs": [
        {
          "output_type": "execute_result",
          "data": {
            "text/plain": [
              "0         2020-02-01 00:00:00\n",
              "1         2020-02-01 00:00:10\n",
              "2         2020-02-01 00:00:19\n",
              "3         2020-02-01 00:00:29\n",
              "4         2020-02-01 00:00:39\n",
              "                  ...        \n",
              "1516943   2020-09-01 03:59:10\n",
              "1516944   2020-09-01 03:59:20\n",
              "1516945   2020-09-01 03:59:30\n",
              "1516946   2020-09-01 03:59:40\n",
              "1516947   2020-09-01 03:59:50\n",
              "Name: timestamp, Length: 1516948, dtype: datetime64[ns]"
            ]
          },
          "metadata": {},
          "execution_count": 12
        }
      ]
    },
    {
      "cell_type": "code",
      "source": [
        "# Getting number unique values for each column\n",
        "df.nunique()"
      ],
      "metadata": {
        "colab": {
          "base_uri": "https://localhost:8080/"
        },
        "id": "GDsM8eQOneFx",
        "outputId": "126c3b42-224b-4fac-a0eb-ff5e510d162e"
      },
      "execution_count": null,
      "outputs": [
        {
          "output_type": "execute_result",
          "data": {
            "text/plain": [
              "timestamp          1516948\n",
              "TP2                   5257\n",
              "TP3                   3683\n",
              "H1                    2665\n",
              "DV_pressure           2257\n",
              "Reservoirs            3682\n",
              "Oil_temperature       2462\n",
              "Motor_current         1809\n",
              "COMP                     2\n",
              "DV_eletric               2\n",
              "Towers                   2\n",
              "MPG                      2\n",
              "LPS                      2\n",
              "Pressure_switch          2\n",
              "Oil_level                2\n",
              "Caudal_impulses          2\n",
              "dtype: int64"
            ]
          },
          "metadata": {},
          "execution_count": 13
        }
      ]
    },
    {
      "cell_type": "markdown",
      "source": [
        "**Observation**\n",
        "- some columns may be nominal/ordinal type since only two unique values for them.\n"
      ],
      "metadata": {
        "id": "CqL2g4ycnrL0"
      }
    },
    {
      "cell_type": "code",
      "source": [
        "cnt= df['TP2'].dtypes\n",
        "cnt"
      ],
      "metadata": {
        "colab": {
          "base_uri": "https://localhost:8080/"
        },
        "id": "J9KX0xl1o8UX",
        "outputId": "8e3c4f6e-6303-4944-8f5e-74e463b6fe5a"
      },
      "execution_count": null,
      "outputs": [
        {
          "output_type": "execute_result",
          "data": {
            "text/plain": [
              "dtype('float64')"
            ]
          },
          "metadata": {},
          "execution_count": 14
        }
      ]
    },
    {
      "cell_type": "code",
      "source": [
        "# Getting categorical columns which are already encoded\n",
        "cat_cols = []\n",
        "num_cols = []\n",
        "col = df.columns\n",
        "for i in col:\n",
        "  cnt = df[i].nunique()\n",
        "  if df[i].dtypes != 'datetime64[ns]':\n",
        "    if cnt <= 2 :\n",
        "      val = sorted(df[i].unique())\n",
        "      print(f'unique values for {i}: {val}')\n",
        "      print(f'value counts {i}: {cnt}\\n')\n",
        "      cat_cols.append(i)\n",
        "    else:\n",
        "      num_cols.append(i)\n"
      ],
      "metadata": {
        "colab": {
          "base_uri": "https://localhost:8080/"
        },
        "id": "LbDbcMgWoEgK",
        "outputId": "1e66023a-9e11-4812-a400-7b1defbe5e63"
      },
      "execution_count": null,
      "outputs": [
        {
          "output_type": "stream",
          "name": "stdout",
          "text": [
            "unique values for COMP: [0.0, 1.0]\n",
            "value counts COMP: 2\n",
            "\n",
            "unique values for DV_eletric: [0.0, 1.0]\n",
            "value counts DV_eletric: 2\n",
            "\n",
            "unique values for Towers: [0.0, 1.0]\n",
            "value counts Towers: 2\n",
            "\n",
            "unique values for MPG: [0.0, 1.0]\n",
            "value counts MPG: 2\n",
            "\n",
            "unique values for LPS: [0.0, 1.0]\n",
            "value counts LPS: 2\n",
            "\n",
            "unique values for Pressure_switch: [0.0, 1.0]\n",
            "value counts Pressure_switch: 2\n",
            "\n",
            "unique values for Oil_level: [0.0, 1.0]\n",
            "value counts Oil_level: 2\n",
            "\n",
            "unique values for Caudal_impulses: [0.0, 1.0]\n",
            "value counts Caudal_impulses: 2\n",
            "\n"
          ]
        }
      ]
    },
    {
      "cell_type": "code",
      "source": [
        "# Categorical columns\n",
        "cat_cols"
      ],
      "metadata": {
        "colab": {
          "base_uri": "https://localhost:8080/"
        },
        "id": "KwK_OIpbnpXB",
        "outputId": "2015b307-d69d-4a79-fd62-d7164522bfc8"
      },
      "execution_count": null,
      "outputs": [
        {
          "output_type": "execute_result",
          "data": {
            "text/plain": [
              "['COMP',\n",
              " 'DV_eletric',\n",
              " 'Towers',\n",
              " 'MPG',\n",
              " 'LPS',\n",
              " 'Pressure_switch',\n",
              " 'Oil_level',\n",
              " 'Caudal_impulses']"
            ]
          },
          "metadata": {},
          "execution_count": 16
        }
      ]
    },
    {
      "cell_type": "code",
      "source": [
        "# Numerical columns\n",
        "num_cols"
      ],
      "metadata": {
        "colab": {
          "base_uri": "https://localhost:8080/"
        },
        "id": "P0UKkgZpqisL",
        "outputId": "f0734f67-ef9f-4af9-95d8-5f5e28045943"
      },
      "execution_count": null,
      "outputs": [
        {
          "output_type": "execute_result",
          "data": {
            "text/plain": [
              "['TP2',\n",
              " 'TP3',\n",
              " 'H1',\n",
              " 'DV_pressure',\n",
              " 'Reservoirs',\n",
              " 'Oil_temperature',\n",
              " 'Motor_current']"
            ]
          },
          "metadata": {},
          "execution_count": 17
        }
      ]
    },
    {
      "cell_type": "markdown",
      "source": [
        "- 'TP2', 'TP3', 'H1', 'DV_pressure', 'Reservoirs', 'Oil_temperature', 'Motor_current' are quantitative variables.\n",
        "- 'COMP', 'DV_eletric', 'Towers', 'MPG', 'LPS', 'Pressure_switch', 'Oil_level', 'Caudal_impulses' are qualitative variables. Moreover, these variables are binary in nature."
      ],
      "metadata": {
        "id": "Xr1CnZ3Ip4rl"
      }
    },
    {
      "cell_type": "markdown",
      "source": [
        "**Description of Attributes:**\\\n",
        "(researched plus taken from assigned dataset description)\\\n",
        "Attributes in the dataset:\n",
        "1. **Unnamed: 0:** An unnamed index or identifier for each record in the dataset.\n",
        "2. **timestamp:** The timestamp indicating the time at which the readings were recorded.\n",
        "3. **TP2:** Reading from the Pressure sensor, TP2 measures the pressure on the compressor.\n",
        "4. **TP3:** Reading from the Pressure sensor, TP3 measure the pressure generated at the pneumatic panel.\n",
        "5. **H1:** Reading from the Pressure sensor, H1 measure the pressure generated due to pressure drop when the discharge of the cyclonic\n",
        "separator filter occurs.\n",
        "6. **DV_pressure:** Reading from the Pressure sensor, which measure the pressure drop generated when the towers discharge air dryers; a zero\n",
        "reading indicates that the compressor is operating under load.\n",
        "7. **Reservoirs:** Reading related to reservoirs which has the measure of the downstream pressure of the reservoirs, which should be close to the\n",
        "pneumatic panel pressure (TP3).\n",
        "8. **Oil_temperature:** Reading of oil temperature on the compressor.\n",
        "9. **Motor_current:** Reading of motor current which has the measure of the current of one phase of the three-phase motor;\\\n",
        "it presents values close to\n",
        "  - 0A - when it turns off,\n",
        "  - 4A - when working offloaded,\n",
        "  - 7A - when working under load and\n",
        "  - 9A - when it starts working.\n",
        "10. **COMP:** Reading related to the electrical signal of the air intake valve on the compressor.\n",
        "  - it is active when there is no air intake,\n",
        "indicating that the compressor is either turned off or operating in an offloaded state.\n",
        "11. **DV_eletric:** Reading related to electrical signal that controls the compressor outlet valve.\n",
        "  - it is active when the compressor is functioning under load\n",
        "  - inactive when the compressor is either off or operating in an offloaded state.\n",
        "12. **Towers:** Reading related to the electrical signal that defines the tower responsible for drying the air and the tower responsible\n",
        "for draining the humidity removed from the air.\n",
        "  - when not active, it indicates that tower one is functioning\n",
        "  - when active, it indicates that tower two is in operation.\n",
        "13. **MPG:** Reading related to MPG (miles per gallon).\\\n",
        "It measures the electrical signal responsible for starting the compressor under load by activating the intake valve\n",
        "when the pressure in the air production unit (APU) falls below 8.2 bar;\\\n",
        "It activates the COMP sensor, which assumes\n",
        "the same behaviour as the MPG sensor.\n",
        "14. **LPS:** Reading of LPS (low pressure system) which measures the electrical signal that detects and activates when the pressure drops below 7 bars.\n",
        "15. **Pressure_switch:** Reading from the pressure switch which measures the electrical signal that detects the discharge in the air-drying towers.\n",
        "16. **Oil_level:** It measures the electrical signal that detects the oil level on the compressor\\\n",
        "It is active when the oil is below the\n",
        "expected values.\n",
        "17. **Caudal_impulses:** the electrical signal that counts the pulse outputs generated by the absolute amount of air\n",
        "flowing from the APU to the reservoirs.\n",
        "\n",
        "\n"
      ],
      "metadata": {
        "id": "dnbkTLEVKUbF"
      }
    },
    {
      "cell_type": "markdown",
      "source": [
        "### b. Data Visualization, summarizing insights about the dataset through EDA."
      ],
      "metadata": {
        "id": "lUMYPBXIjOCf"
      }
    },
    {
      "cell_type": "code",
      "source": [],
      "metadata": {
        "id": "--etdF2mjrxt"
      },
      "execution_count": null,
      "outputs": []
    },
    {
      "cell_type": "markdown",
      "source": [
        "## **Regression Analysis:**"
      ],
      "metadata": {
        "id": "4JzDwaT4jR8M"
      }
    },
    {
      "cell_type": "markdown",
      "source": [
        "### T2. Identify and list regression problems on your assigned dataset. Which one does seem the most interesting to you and why?"
      ],
      "metadata": {
        "id": "jv5Os9TsjWbB"
      }
    },
    {
      "cell_type": "markdown",
      "source": [
        "Regression problems involve predicting a continuous numeric value based on input features. Given the attributes in the metro train dataset, here are a few potential regression problems:\n",
        "\n",
        "1. **Predict Motor Current:** Given sensor readings such as 'TP2', 'TP3', 'H1', and 'Oil_temperature', predict the 'Motor_current' value, which represents the electrical current consumed by the motor. This could be valuable for monitoring motor health and efficiency.\n",
        "\n",
        "2. **Oil Temperature Prediction:** Use attributes like 'TP2', 'TP3', 'H1', and 'Motor_current' to predict the 'Oil_temperature'. Accurate prediction of oil temperature is crucial for maintaining optimal compressor operation and preventing overheating.\n",
        "\n",
        "3. **Air Pressure Prediction:** Given sensor readings like 'TP2', 'TP3', 'H1', and 'Oil_temperature', predict the 'DV_pressure' or other pressure-related attributes. Accurate pressure prediction is essential for maintaining safe and efficient compressor operation.\n",
        "\n",
        "4. **Estimating Reservoir Levels ('Reservoirs'):** Predict the levels of the 'Reservoirs' using other attributes. This could help in maintaining appropriate fluid levels and preventing issues due to under- or overfilling.\n",
        "\n"
      ],
      "metadata": {
        "id": "ymvarnCtrqyR"
      }
    },
    {
      "cell_type": "markdown",
      "source": [
        "**Selecting the Most Interesting Problem:**\n",
        "\n",
        "Choosing the most interesting problem depends on goals, domain expertise, and the potential impact of solving the problem. However, one problem that stands out is predicting the 'Motor_current'. Motor current consumption is a crucial indicator of the motor's health, efficiency, and potential issues. By accurately predicting motor current, you could:\n",
        "\n",
        "- Identify abnormal motor behavior or impending failures.\n",
        "- Optimize energy consumption by understanding how motor current changes in different operating conditions.\n",
        "- Schedule maintenance more effectively, preventing unexpected breakdowns.\n",
        "- Enhance passenger safety by addressing potential motor-related risks.\n",
        "- Solving this problem would likely have a direct impact on the overall reliability, efficiency, and safety of the metro train system."
      ],
      "metadata": {
        "id": "ot__wTfor5YT"
      }
    },
    {
      "cell_type": "markdown",
      "source": [
        "\n",
        "\n",
        "**Predicting Motor Current ('Motor_current'):**\n",
        "\n",
        "**Reasons for Choosing this Problem:**\n",
        "\n",
        "1. **Operational Significance:** Motor current consumption is a critical operational parameter in a metro train's compressor system. It directly relates to the health and performance of the motor driving the compressor.\n",
        "\n",
        "2. **Safety and Reliability:** Accurate predictions of motor current can help in ensuring the safety and reliability of the metro train system. Any anomalies or deviations from expected motor current levels could indicate potential issues or wear and tear.\n",
        "\n",
        "3. **Energy Efficiency:** Motor current is closely linked to energy efficiency. Predicting motor current allows for optimizing energy consumption, which is essential for cost savings and environmental sustainability.\n",
        "\n",
        "4. **Maintenance Planning:** Predictive modeling of motor current can enable proactive maintenance planning. Detecting abnormal current spikes or drops can trigger maintenance interventions before critical failures occur, minimizing downtime.\n",
        "\n",
        "5. **Data Availability:** Motor current data is often readily available in such systems, making it a practical choice for predictive modeling.\n",
        "\n",
        "6. **Real-time Monitoring:** Accurate motor current predictions can support real-time monitoring, allowing for immediate responses to any deviations from expected current levels.\n",
        "\n",
        "\n"
      ],
      "metadata": {
        "id": "cf7ljSULsKRI"
      }
    },
    {
      "cell_type": "markdown",
      "source": [
        "### T3. Build an end-to-end Machine Learning pipeline for your assigned dataset for the aforementioned most interesting regression problems found in T2.\n"
      ],
      "metadata": {
        "id": "4_2_jDhDirz0"
      }
    },
    {
      "cell_type": "markdown",
      "source": [
        "Your pipeline should\n",
        "include components for dataset preprocessing, transformation, regression model building\n",
        "hyperparameter tuning, grid search or optimization, and evaluation. Report results on the\n",
        "regression models with hyperparameter tuning, and report the best hyperparameter\n",
        "values. Report results using at least two relevant evaluation metrics like RMSE,MAE.\n",
        "Compare results for different models and give the reasoning for that."
      ],
      "metadata": {
        "id": "k53A4PLHjnpj"
      }
    },
    {
      "cell_type": "markdown",
      "source": [
        "### **Dataset Preprocessing**\n",
        "prepare the data for modeling"
      ],
      "metadata": {
        "id": "68GVsdduszM9"
      }
    },
    {
      "cell_type": "markdown",
      "source": [
        "Major steps for preprocessing are :\n",
        "\n",
        "**1. Handle Missing Values:** Checking for missing values and use appropriate measures to clean them.\\\n",
        "Already done in Task-01.No missing values are present in the dataset.\n",
        "\n",
        "**2. Feature Selection:** Decide which features (attributes) to include as input (X) for predicting 'Motor_current'. Use all numerical attributes or perform feature selection if needed.\n",
        "\n",
        "**3. Scaling/Normalization:** Scale or normalize the features to ensure they are on a similar scale.\n",
        "\n",
        "**4. Train-Test Split:** Split the data into training and testing sets to evaluate the model's performance."
      ],
      "metadata": {
        "id": "OT_Kxky9s4hR"
      }
    },
    {
      "cell_type": "markdown",
      "source": [
        "### **Feature selection using correlation analysis**"
      ],
      "metadata": {
        "id": "b1u5o4mtXlPI"
      }
    },
    {
      "cell_type": "code",
      "source": [
        "#  Feature Selection using Correlation Analysis\n",
        "import seaborn as sns\n",
        "import matplotlib.pyplot as plt\n",
        "\n",
        "# Calculate the correlation matrix\n",
        "correlation_matrix = df.corr()\n",
        "\n",
        "# Plot the correlation heatmap\n",
        "plt.figure(figsize=(10, 8))\n",
        "sns.heatmap(correlation_matrix, annot=True, cmap='coolwarm', fmt=\".2f\", linewidths=0.5)\n",
        "plt.title('Correlation Heatmap')\n",
        "plt.show()"
      ],
      "metadata": {
        "colab": {
          "base_uri": "https://localhost:8080/"
        },
        "id": "EdrIEoskuMMa",
        "outputId": "13bf2ce5-c79d-4078-e1aa-b4e840376ad9"
      },
      "execution_count": null,
      "outputs": [
        {
          "output_type": "stream",
          "name": "stderr",
          "text": [
            "<ipython-input-18-fc224aacb471>:6: FutureWarning: The default value of numeric_only in DataFrame.corr is deprecated. In a future version, it will default to False. Select only valid columns or specify the value of numeric_only to silence this warning.\n",
            "  correlation_matrix = df.corr()\n"
          ]
        },
        {
          "output_type": "display_data",
          "data": {
            "text/plain": [
              "<Figure size 1000x800 with 2 Axes>"
            ],
            "image/png": "[encoded data removed]"
          },
          "metadata": {}
        }
      ]
    },
    {
      "cell_type": "code",
      "execution_count": null,
      "metadata": {
        "colab": {
          "base_uri": "https://localhost:8080/"
        },
        "id": "uu5MQX3Oh-nn",
        "outputId": "01071c75-f9a8-420e-d1b6-48d7dda37a58"
      },
      "outputs": [
        {
          "output_type": "stream",
          "name": "stdout",
          "text": [
            "Correlations with Motor_current:\n",
            "Motor_current      1.000000\n",
            "TP2                0.697480\n",
            "DV_eletric         0.689828\n",
            "Oil_temperature    0.528739\n",
            "TP3                0.413756\n",
            "Reservoirs         0.412691\n",
            "DV_pressure        0.302160\n",
            "LPS                0.053664\n",
            "Oil_level         -0.032793\n",
            "Pressure_switch   -0.047003\n",
            "Caudal_impulses   -0.051145\n",
            "Towers            -0.439421\n",
            "H1                -0.600178\n",
            "COMP              -0.681326\n",
            "MPG               -0.683543\n",
            "Name: Motor_current, dtype: float64\n"
          ]
        }
      ],
      "source": [
        "# Get correlations with 'Motor_current' (target variable)\n",
        "correlations_with_target = correlation_matrix['Motor_current'].sort_values(ascending=False)\n",
        "\n",
        "# Print correlations with 'Motor_current'\n",
        "print(\"Correlations with Motor_current:\")\n",
        "print(correlations_with_target)"
      ]
    },
    {
      "cell_type": "markdown",
      "source": [
        "Here are the attributes that seem to have a relatively strong correlation with 'Motor_current' (either positive or negative):\n",
        "\n",
        "- 'TP2'\n",
        "- 'DV_eletric'\n",
        "- 'Oil_temperature'\n",
        "- 'TP3'\n",
        "- 'Reservoirs'\n",
        "- 'DV_pressure'\n",
        "- 'Towers'\n",
        "- 'H1'\n",
        "- 'COMP'\n",
        "- 'MPG'"
      ],
      "metadata": {
        "id": "DrdkyeZquftZ"
      }
    },
    {
      "cell_type": "code",
      "source": [
        "# Selected features\n",
        "predictors = ['TP2', 'DV_eletric', 'Oil_temperature', 'TP3', 'Reservoirs', 'DV_pressure', 'Towers', 'H1', 'COMP', 'MPG']"
      ],
      "metadata": {
        "id": "w0MP3gVPud9_"
      },
      "execution_count": null,
      "outputs": []
    },
    {
      "cell_type": "code",
      "source": [
        "# Data Preparation\n",
        "X = df[predictors]\n",
        "y = df['Motor_current']"
      ],
      "metadata": {
        "id": "7qf4rTOFvyTp"
      },
      "execution_count": null,
      "outputs": []
    },
    {
      "cell_type": "code",
      "source": [
        "# from sklearn.model_selection import train_test_split\n",
        "# # Train-Test Split\n",
        "# X_train, X_test, y_train, y_test = train_test_split(X, y, test_size=0.2, random_state=42)"
      ],
      "metadata": {
        "id": "jOGGpNWzwfIj"
      },
      "execution_count": null,
      "outputs": []
    },
    {
      "cell_type": "code",
      "source": [
        "# # Scaling And Normalization\n",
        "# from sklearn.preprocessing import StandardScaler\n",
        "\n",
        "# scaler = StandardScaler()\n",
        "# X_train_scaled = scaler.fit_transform(X_train)\n",
        "# X_test_scaled = scaler.transform(X_test)\n"
      ],
      "metadata": {
        "id": "7uuOdksiwkBi"
      },
      "execution_count": null,
      "outputs": []
    },
    {
      "cell_type": "code",
      "source": [
        "#splitting into train_test_validation sets\n",
        "from sklearn.model_selection import train_test_split\n",
        "\n",
        "X_train,X_rem,y_train,y_rem = train_test_split(X,y,test_size = 0.25,random_state = 50)\n",
        "X_test,X_val,y_test,y_val = train_test_split(X_rem,y_rem,test_size = 0.6,random_state = 50)\n",
        "\n",
        "print(X_train.shape,X_test.shape,X_val.shape)\n",
        "print(y_train.shape,y_test.shape,y_val.shape)"
      ],
      "metadata": {
        "colab": {
          "base_uri": "https://localhost:8080/"
        },
        "id": "_oodAk0qOwte",
        "outputId": "b4cf0be9-d053-4389-ad11-60391f745520"
      },
      "execution_count": null,
      "outputs": [
        {
          "output_type": "stream",
          "name": "stdout",
          "text": [
            "(1137711, 10) (151694, 10) (227543, 10)\n",
            "(1137711,) (151694,) (227543,)\n"
          ]
        }
      ]
    },
    {
      "cell_type": "markdown",
      "source": [
        "**Scaling / Normalization**"
      ],
      "metadata": {
        "id": "oC9qJM7AYqTb"
      }
    },
    {
      "cell_type": "code",
      "source": [
        "from sklearn.preprocessing import StandardScaler\n",
        "\n",
        "# Initialize the StandardScaler\n",
        "scaler = StandardScaler()\n",
        "\n",
        "# Fit and transform the training data (X_train)\n",
        "X_train_scaled = scaler.fit_transform(X_train)\n",
        "\n",
        "# Transform the validation and test data using the same scaler\n",
        "X_val_scaled = scaler.transform(X_val)\n",
        "X_test_scaled = scaler.transform(X_test)"
      ],
      "metadata": {
        "id": "CwVwQMVGYlVI"
      },
      "execution_count": null,
      "outputs": []
    },
    {
      "cell_type": "markdown",
      "source": [
        "### **Model Building and Evaluation**"
      ],
      "metadata": {
        "id": "_KRxkxWawSLp"
      }
    },
    {
      "cell_type": "markdown",
      "source": [
        "**Basic model training on train set, prediction and evaluation on test set**"
      ],
      "metadata": {
        "id": "wNsAfOLNPqXM"
      }
    },
    {
      "cell_type": "code",
      "source": [
        "\n",
        "from sklearn.linear_model import LinearRegression\n",
        "from sklearn.metrics import mean_squared_error, mean_absolute_error, r2_score\n",
        "\n",
        "# # Model Selection\n",
        "# model = LinearRegression()\n",
        "\n",
        "# # Model Training\n",
        "# # Without scaling the features\n",
        "# model.fit(X_train, y_train)\n",
        "\n",
        "# # Model Prediction\n",
        "# y_pred = model.predict(X_test)\n",
        "\n",
        "# # Model Evaluation\n",
        "# mse = mean_squared_error(y_test, y_pred)\n",
        "# rmse = mean_squared_error(y_test, y_pred, squared=False)\n",
        "# mae = mean_absolute_error(y_test, y_pred)\n",
        "# r2 = r2_score(y_test, y_pred)\n",
        "\n",
        "# print(f\"Mean Squared Error: {mse}\")\n",
        "# print(f\"Root Mean Squared Error: {rmse}\")\n",
        "# print(f\"Mean Absolute Error: {mae}\")\n",
        "# print(f\"R-squared: {r2}\")"
      ],
      "metadata": {
        "id": "hR8GCTENvOhU"
      },
      "execution_count": null,
      "outputs": []
    },
    {
      "cell_type": "code",
      "source": [
        "# # Model Training\n",
        "# # After scaling the features\n",
        "# model.fit(X_train_scaled, y_train)\n",
        "\n",
        "# # Model Prediction\n",
        "# y_pred = model.predict(X_test_scaled)\n",
        "\n",
        "# # Model Evaluation\n",
        "# mse = mean_squared_error(y_test, y_pred)\n",
        "# rmse = mean_squared_error(y_test, y_pred, squared=False)\n",
        "# mae = mean_absolute_error(y_test, y_pred)\n",
        "# r2 = r2_score(y_test, y_pred)\n",
        "\n",
        "# print(f\"Mean Squared Error: {mse}\")\n",
        "# print(f\"Root Mean Squared Error: {rmse}\")\n",
        "# print(f\"Mean Absolute Error: {mae}\")\n",
        "# print(f\"R-squared: {r2}\")"
      ],
      "metadata": {
        "id": "iGLHFgD8xNf7"
      },
      "execution_count": null,
      "outputs": []
    },
    {
      "cell_type": "code",
      "source": [
        "def lr_pipeline(X_train,y_train,X_val,y_val,X_test,y_test):\n",
        "\n",
        "    # Create a linear regression model and fit it to the training data\n",
        "    lr = LinearRegression()\n",
        "    lr.fit(X_train, y_train)\n",
        "    # lr.score(X_test,y_test)\n",
        "    # Prediction on train set\n",
        "    y_train_pred =lr.predict(X_train)\n",
        "    # Prediction on validation set\n",
        "    y_val_pred =lr.predict(X_val)\n",
        "    # Prediction on test set\n",
        "    y_test_pred =lr.predict(X_test)\n",
        "\n",
        "    # Calculate performance metrics for train set\n",
        "    train_mse = mean_squared_error(y_train, y_train_pred)\n",
        "    train_rmse = mean_squared_error(y_train, y_train_pred, squared=False)\n",
        "    train_mae = mean_absolute_error(y_train, y_train_pred)\n",
        "    train_r2 = r2_score(y_train, y_train_pred)\n",
        "\n",
        "    # Calculate performance metrics for validation set\n",
        "    validation_mse = mean_squared_error(y_val, y_val_pred)\n",
        "    validation_rmse = mean_squared_error(y_val, y_val_pred, squared=False)\n",
        "    validation_mae = mean_absolute_error(y_val, y_val_pred)\n",
        "    validation_r2 = r2_score(y_val, y_val_pred)\n",
        "\n",
        "    # Calculate performance metrics for test set\n",
        "    test_mse = mean_squared_error(y_test, y_test_pred)\n",
        "    test_rmse = mean_squared_error(y_test, y_test_pred, squared=False)\n",
        "    test_mae = mean_absolute_error(y_test, y_test_pred)\n",
        "    test_r2 = r2_score(y_test, y_test_pred)\n",
        "\n",
        "\n",
        "    # Print the performance metrics\n",
        "\n",
        "    print(\"Train Set Metrics:\")\n",
        "    print(f\"Mean Squared Error: {train_mse:.2f}\")\n",
        "    print(f\"Root Mean Squared Error: {train_rmse}\")\n",
        "    print(f\"Mean Absolute Error: {train_mae}\")\n",
        "    print(f\"R2-Score: {train_r2:.2f}\")\n",
        "\n",
        "    print(\"\\nValidation Set Metrics:\")\n",
        "    print(f\"Mean Squared Error: {validation_mse:.2f}\")\n",
        "    print(f\"Root Mean Squared Error: {validation_rmse}\")\n",
        "    print(f\"Mean Absolute Error: {validation_mae}\")\n",
        "    print(f\"R2-Score: {validation_r2:.2f}\")\n",
        "\n",
        "    print(\"\\nTest Set Metrics:\")\n",
        "    print(f\"Mean Squared Error: {test_mse:.2f}\")\n",
        "    print(f\"Root Mean Squared Error: {test_rmse}\")\n",
        "    print(f\"Mean Absolute Error: {test_mae}\")\n",
        "    print(f\"R2-Score: {test_r2:.2f}\")"
      ],
      "metadata": {
        "id": "JlL1NYWsQEVr"
      },
      "execution_count": null,
      "outputs": []
    },
    {
      "cell_type": "code",
      "source": [
        "lr_pipeline(X_train,y_train,X_val,y_val,X_test,y_test)"
      ],
      "metadata": {
        "colab": {
          "base_uri": "https://localhost:8080/"
        },
        "id": "pXaFk3CISQbt",
        "outputId": "e7d9488e-4a6f-43eb-9f03-c30d6b8abf41"
      },
      "execution_count": null,
      "outputs": [
        {
          "output_type": "stream",
          "name": "stdout",
          "text": [
            "Train Set Metrics:\n",
            "Mean Squared Error: 1.31\n",
            "Root Mean Squared Error: 1.1440043077986084\n",
            "Mean Absolute Error: 0.9089702068675056\n",
            "R2-Score: 0.75\n",
            "\n",
            "Validation Set Metrics:\n",
            "Mean Squared Error: 1.31\n",
            "Root Mean Squared Error: 1.1451339375433613\n",
            "Mean Absolute Error: 0.9106007020670622\n",
            "R2-Score: 0.75\n",
            "\n",
            "Test Set Metrics:\n",
            "Mean Squared Error: 1.30\n",
            "Root Mean Squared Error: 1.1392919531820234\n",
            "Mean Absolute Error: 0.9065545487725445\n",
            "R2-Score: 0.75\n"
          ]
        }
      ]
    },
    {
      "cell_type": "code",
      "source": [
        "lr_pipeline(X_train_scaled,y_train,X_val_scaled,y_val,X_test_scaled,y_test)"
      ],
      "metadata": {
        "colab": {
          "base_uri": "https://localhost:8080/"
        },
        "id": "7lyDB5qIS18K",
        "outputId": "658a2950-fff7-4cbd-9baa-9a9d5556896f"
      },
      "execution_count": null,
      "outputs": [
        {
          "output_type": "stream",
          "name": "stdout",
          "text": [
            "Train Set Metrics:\n",
            "Mean Squared Error: 1.31\n",
            "Root Mean Squared Error: 1.1440043077986082\n",
            "Mean Absolute Error: 0.9089702068675091\n",
            "R2-Score: 0.75\n",
            "\n",
            "Validation Set Metrics:\n",
            "Mean Squared Error: 1.31\n",
            "Root Mean Squared Error: 1.145133937543362\n",
            "Mean Absolute Error: 0.910600702067066\n",
            "R2-Score: 0.75\n",
            "\n",
            "Test Set Metrics:\n",
            "Mean Squared Error: 1.30\n",
            "Root Mean Squared Error: 1.1392919531820236\n",
            "Mean Absolute Error: 0.9065545487725483\n",
            "R2-Score: 0.75\n"
          ]
        }
      ]
    },
    {
      "cell_type": "markdown",
      "source": [
        "**No difference after scaling**"
      ],
      "metadata": {
        "id": "v4IkfxwQTi25"
      }
    },
    {
      "cell_type": "markdown",
      "source": [
        "### **Polynomial Regression**"
      ],
      "metadata": {
        "id": "0d0g7354WJ1v"
      }
    },
    {
      "cell_type": "code",
      "source": [
        "from sklearn.preprocessing import PolynomialFeatures"
      ],
      "metadata": {
        "id": "oIenCbAf240b"
      },
      "execution_count": null,
      "outputs": []
    },
    {
      "cell_type": "code",
      "source": [
        "def poly_reg(X_train,y_train,X_val,y_val,X_test,y_test,degree):\n",
        "     # Create PolynomialFeatures\n",
        "    poly_features = PolynomialFeatures(degree=degree)\n",
        "\n",
        "    # Transform the input features\n",
        "    X_train_poly = poly_features.fit_transform(X_train)\n",
        "    X_val_poly = poly_features.transform(X_val)\n",
        "    X_test_poly = poly_features.transform(X_test)\n",
        "\n",
        "    # Train the Polynomial Regression Model\n",
        "    model = LinearRegression()\n",
        "    model.fit(X_train_poly, y_train)\n",
        "\n",
        "    # Make Predictions on Training, Validation, and Test Data\n",
        "    y_train_pred = model.predict(X_train_poly)\n",
        "    y_val_pred = model.predict(X_val_poly)\n",
        "    y_test_pred = model.predict(X_test_poly)\n",
        "\n",
        "    # Evaluate the Model\n",
        "    mse_train = mean_squared_error(y_train, y_train_pred)\n",
        "    r2_train = r2_score(y_train, y_train_pred)\n",
        "\n",
        "    mse_val = mean_squared_error(y_val, y_val_pred)\n",
        "    r2_val = r2_score(y_val, y_val_pred)\n",
        "\n",
        "    mse_test = mean_squared_error(y_test, y_test_pred)\n",
        "    r2_test = r2_score(y_test, y_test_pred)\n",
        "\n",
        "    =\n",
        "    print(f'Validation MSE: {mse_val}, R-squared: {r2_val}')\n",
        "    print(f'Test MSE: {mse_test}, R-squared: {r2_test}')"
      ],
      "metadata": {
        "id": "hbBejE_N1b82"
      },
      "execution_count": null,
      "outputs": []
    },
    {
      "cell_type": "code",
      "source": [
        "poly_reg(X_train, y_train, X_val, y_val, X_test, y_test,degree=2)"
      ],
      "metadata": {
        "id": "A09o12k__QN-",
        "colab": {
          "base_uri": "https://localhost:8080/"
        },
        "outputId": "c94dc068-b0ab-4e61-8e25-e12713809570"
      },
      "execution_count": null,
      "outputs": [
        {
          "output_type": "stream",
          "name": "stdout",
          "text": [
            "Training MSE: 0.8766131137136206, R-squared: 0.8346175609312366\n",
            "Validation MSE: 0.8703157058334919, R-squared: 0.8357129155128235\n",
            "Test MSE: 0.8817620223738982, R-squared: 0.8334492774732214\n"
          ]
        }
      ]
    },
    {
      "cell_type": "code",
      "source": [
        "poly_reg(X_train_scaled,y_train,X_val_scaled,y_val,X_test_scaled,y_test,degree=2)"
      ],
      "metadata": {
        "colab": {
          "base_uri": "https://localhost:8080/"
        },
        "id": "HXf1jM99Cn8-",
        "outputId": "9097f22f-47b6-4e17-c2ae-05c2715ad298"
      },
      "execution_count": null,
      "outputs": [
        {
          "output_type": "stream",
          "name": "stdout",
          "text": [
            "Training MSE: 0.8766136369360603, R-squared: 0.8346174622197277\n",
            "Validation MSE: 0.8703205870375225, R-squared: 0.8357119941014626\n",
            "Test MSE: 0.8817734407722531, R-squared: 0.8334471207206647\n"
          ]
        }
      ]
    },
    {
      "cell_type": "code",
      "source": [
        "poly_reg(X_train, y_train, X_val, y_val, X_test, y_test,degree=3)"
      ],
      "metadata": {
        "colab": {
          "base_uri": "https://localhost:8080/"
        },
        "id": "jINhyKROBuK1",
        "outputId": "c30c523c-3195-48fb-c8cd-f909c7d7b771"
      },
      "execution_count": null,
      "outputs": [
        {
          "output_type": "stream",
          "name": "stdout",
          "text": [
            "Training MSE: 0.7084147737454493, R-squared: 0.8663499766070769\n",
            "Validation MSE: 1.0179986891328772, R-squared: 0.807835207926944\n",
            "Test MSE: 14.527408075864386, R-squared: -1.7439946948073457\n"
          ]
        }
      ]
    },
    {
      "cell_type": "code",
      "source": [
        "poly_reg(X_train_scaled,y_train,X_val_scaled,y_val,X_test_scaled,y_test,degree=3)"
      ],
      "metadata": {
        "colab": {
          "base_uri": "https://localhost:8080/"
        },
        "id": "Vz9D5b2sDQnh",
        "outputId": "548f9599-1545-40a1-e848-acc256e737f2"
      },
      "execution_count": null,
      "outputs": [
        {
          "output_type": "stream",
          "name": "stdout",
          "text": [
            "Training MSE: 0.7084182230277352, R-squared: 0.8663493258630844\n",
            "Validation MSE: 7926775501676874.0, R-squared: -1496315449469801.5\n",
            "Test MSE: 341964489554182.2, R-squared: -64591614708484.83\n"
          ]
        }
      ]
    },
    {
      "cell_type": "code",
      "source": [
        "# print('/------Polynomial Regression------/')\n",
        "# for i in range(2,5,2):\n",
        "#     print(f'\\ndegree {i}\\n')\n",
        "#     poly_reg(X_train,y_train,X_val,y_val,X_test,y_test,i)\n"
      ],
      "metadata": {
        "id": "bch_mTXB_qdK"
      },
      "execution_count": null,
      "outputs": []
    },
    {
      "cell_type": "markdown",
      "source": [
        "**Ridge Regression**"
      ],
      "metadata": {
        "id": "MtmUlebnhhz3"
      }
    },
    {
      "cell_type": "code",
      "source": [
        "from sklearn.linear_model import Ridge\n",
        "\n",
        "# Create a Ridge Regression model instance\n",
        "ridge_regressor = Ridge(alpha=1.0)\n",
        "# You can adjust the regularization strength with the 'alpha' parameter\n",
        "\n",
        "# Train the model on the training data\n",
        "ridge_regressor.fit(X_train, y_train)\n",
        "\n",
        "# Make predictions on the training, validation and test data\n",
        "y_train_pred = ridge_regressor.predict(X_train)\n",
        "y_val_pred = ridge_regressor.predict(X_val)\n",
        "y_test_pred = ridge_regressor.predict(X_test)\n",
        "\n",
        "# Evaluate the model\n",
        "mse_val = mean_squared_error(y_train, y_train_pred)\n",
        "r2_val = r2_score(y_train, y_train_pred)\n",
        "\n",
        "mse_val = mean_squared_error(y_val, y_val_pred)\n",
        "r2_val = r2_score(y_val, y_val_pred)\n",
        "\n",
        "mse_test = mean_squared_error(y_test, y_test_pred)\n",
        "r2_test = r2_score(y_test, y_test_pred)\n",
        "\n",
        "print(f'Train MSE: {mse_test}, R-squared: {r2_test}')\n",
        "print(f'Validation MSE: {mse_val}, R-squared: {r2_val}')\n",
        "print(f'Test MSE: {mse_test}, R-squared: {r2_test}')\n"
      ],
      "metadata": {
        "colab": {
          "base_uri": "https://localhost:8080/"
        },
        "id": "ahX8w89fhk4w",
        "outputId": "2cf011f7-0da1-4b14-8bf0-ddc2473159d2"
      },
      "execution_count": null,
      "outputs": [
        {
          "output_type": "stream",
          "name": "stdout",
          "text": [
            "Train MSE: 1.2987724736640154, R-squared: 0.7546826826309949\n",
            "Validation MSE: 1.3132012253263579, R-squared: 0.7521106430599901\n",
            "Test MSE: 1.2987724736640154, R-squared: 0.7546826826309949\n"
          ]
        }
      ]
    },
    {
      "cell_type": "code",
      "source": [
        "from sklearn.linear_model import LassoCV\n",
        "from sklearn.metrics import mean_squared_error, r2_score\n",
        "\n",
        "# Create a LassoCV model instance\n",
        "lasso_regressor = LassoCV(alphas=[0.001, 0.01, 0.1, 1.0, 10.0], cv=5)  # Adjust alphas as needed\n",
        "\n",
        "# Train the model on the scaled training data\n",
        "lasso_regressor.fit(X_train_scaled, y_train)\n",
        "\n",
        "# Make predictions on the validation and test data\n",
        "y_val_pred = lasso_regressor.predict(X_val_scaled)\n",
        "y_test_pred = lasso_regressor.predict(X_test_scaled)\n",
        "\n",
        "# Evaluate the model\n",
        "mse_val = mean_squared_error(y_val, y_val_pred)\n",
        "r2_val = r2_score(y_val, y_val_pred)\n",
        "\n",
        "mse_test = mean_squared_error(y_test, y_test_pred)\n",
        "r2_test = r2_score(y_test, y_test_pred)\n",
        "\n",
        "print(f'Validation MSE: {mse_val}, R-squared: {r2_val}')\n",
        "print(f'Test MSE: {mse_test}, R-squared: {r2_test}')\n"
      ],
      "metadata": {
        "colab": {
          "base_uri": "https://localhost:8080/"
        },
        "id": "1FoTfVD9hgin",
        "outputId": "80b591c3-0bb2-4417-e1e7-378c8c24a921"
      },
      "execution_count": null,
      "outputs": [
        {
          "output_type": "stream",
          "name": "stdout",
          "text": [
            "Validation MSE: 1.3335668984874072, R-squared: 0.7482662713626607\n",
            "Test MSE: 1.316492006220939, R-squared: 0.7513357467511221\n"
          ]
        }
      ]
    },
    {
      "cell_type": "markdown",
      "source": [
        "### **Random Forest Regression**"
      ],
      "metadata": {
        "id": "l_JrxIroFIRP"
      }
    },
    {
      "cell_type": "code",
      "source": [
        "from sklearn.ensemble import RandomForestRegressor\n",
        "from sklearn.metrics import mean_squared_error, r2_score\n",
        "\n",
        "# Create a Random Forest Regressor instance\n",
        "rf_regressor = RandomForestRegressor(n_estimators=100, random_state=42)\n",
        "# Train the model on the training data\n",
        "rf_regressor.fit(X_train, y_train)\n",
        "\n",
        "# Make predictions on the training, validation and test data\n",
        "y_train_pred =rf_regressor.predict(X_train)\n",
        "y_val_pred = rf_regressor.predict(X_val)\n",
        "y_test_pred = rf_regressor.predict(X_test)\n",
        "\n",
        "# Evaluate the model\n",
        "mse_train = mean_squared_error(y_train, y_train_pred)\n",
        "r2_train = r2_score(y_train, y_train_pred)\n",
        "\n",
        "mse_val = mean_squared_error(y_val, y_val_pred)\n",
        "r2_val = r2_score(y_val, y_val_pred)\n",
        "\n",
        "mse_test = mean_squared_error(y_test, y_test_pred)\n",
        "r2_test = r2_score(y_test, y_test_pred)\n",
        "\n",
        "print(f'Training MSE: {mse_train}, R-squared: {r2_train}')\n",
        "print(f'Validation MSE: {mse_val}, R-squared: {r2_val}')\n",
        "print(f'Test MSE: {mse_test}, R-squared: {r2_test}')\n"
      ],
      "metadata": {
        "colab": {
          "base_uri": "https://localhost:8080/"
        },
        "id": "R31fisQsFNXf",
        "outputId": "d783286b-b628-4461-e388-d54ebb9bd846"
      },
      "execution_count": null,
      "outputs": [
        {
          "output_type": "stream",
          "name": "stdout",
          "text": [
            "Validation MSE: 0.499579251438804, R-squared: 0.9056958088437972\n",
            "Test MSE: 0.5056909868528482, R-squared: 0.9044830724180272\n"
          ]
        }
      ]
    },
    {
      "cell_type": "code",
      "source": [
        "from sklearn.ensemble import RandomForestRegressor\n",
        "from sklearn.model_selection import GridSearchCV\n",
        "from sklearn.metrics import mean_squared_error, r2_score\n",
        "\n",
        "# Create a Random Forest Regressor instance\n",
        "rf_regressor = RandomForestRegressor(random_state=42)\n",
        "\n",
        "# Define the hyperparameter grid to search\n",
        "param_grid = {\n",
        "    'n_estimators': [100, 200, 300],  # Number of trees in the forest\n",
        "    'max_depth': [None, 10, 20, 30],  # Maximum depth of the tree\n",
        "    'min_samples_split': [2, 5, 10],  # Minimum number of samples required to split an internal node\n",
        "    'min_samples_leaf': [1, 2, 4]  # Minimum number of samples required to be at a leaf node\n",
        "}\n",
        "\n",
        "# Initialize the Grid Search with cross-validation\n",
        "grid_search = GridSearchCV(\n",
        "    estimator=rf_regressor,\n",
        "    param_grid=param_grid,\n",
        "    scoring='neg_mean_squared_error',  # Use MSE as the scoring metric\n",
        "    cv=5,  # Number of cross-validation folds\n",
        "    verbose=1,\n",
        "    n_jobs=1  # Use all available CPU cores\n",
        ")\n",
        "\n",
        "# Fit the grid search to the training data\n",
        "grid_search.fit(X_train, y_train)\n",
        "\n",
        "# Get the best hyperparameters from the grid search\n",
        "best_params = grid_search.best_params_\n",
        "print(f\"Best Hyperparameters: {best_params}\")\n",
        "\n",
        "# Use the best hyperparameters to create the final model\n",
        "rf_regressor = RandomForestRegressor(random_state=42, **best_params)\n",
        "\n",
        "# Train the final model on the training data\n",
        "rf_regressor.fit(X_train, y_train)\n",
        "\n",
        "# Make predictions on the validation and test data\n",
        "y_val_pred = rf_regressor.predict(X_val)\n",
        "y_test_pred = rf_regressor.predict(X_test)\n",
        "\n",
        "# Evaluate the final model\n",
        "mse_val = mean_squared_error(y_val, y_val_pred)\n",
        "r2_val = r2_score(y_val, y_val_pred)\n",
        "\n",
        "mse_test = mean_squared_error(y_test, y_test_pred)\n",
        "r2_test = r2_score(y_test, y_test_pred)\n",
        "\n",
        "print(f'Validation MSE: {mse_val}, R-squared: {r2_val}')\n",
        "print(f'Test MSE: {mse_test}, R-squared: {r2_test}')\n"
      ],
      "metadata": {
        "colab": {
          "base_uri": "https://localhost:8080/",
          "height": 408
        },
        "id": "dEmwoHS6X4_u",
        "outputId": "420aa54a-96c0-437b-be02-8c44287050e9"
      },
      "execution_count": null,
      "outputs": [
        {
          "output_type": "stream",
          "name": "stdout",
          "text": [
            "Fitting 5 folds for each of 108 candidates, totalling 540 fits\n"
          ]
        },
        {
          "output_type": "error",
          "ename": "KeyboardInterrupt",
          "evalue": "ignored",
          "traceback": [
            "\u001b[0;31m---------------------------------------------------------------------------\u001b[0m",
            "\u001b[0;31mKeyboardInterrupt\u001b[0m                         Traceback (most recent call last)",
            "\u001b[0;32m<ipython-input-31-b607d1ae50cc>\u001b[0m in \u001b[0;36m<cell line: 27>\u001b[0;34m()\u001b[0m\n\u001b[1;32m     25\u001b[0m \u001b[0;34m\u001b[0m\u001b[0m\n\u001b[1;32m     26\u001b[0m \u001b[0;31m# Fit the grid search to the training data\u001b[0m\u001b[0;34m\u001b[0m\u001b[0;34m\u001b[0m\u001b[0m\n\u001b[0;32m---> 27\u001b[0;31m \u001b[0mgrid_search\u001b[0m\u001b[0;34m.\u001b[0m\u001b[0mfit\u001b[0m\u001b[0;34m(\u001b[0m\u001b[0mX_train\u001b[0m\u001b[0;34m,\u001b[0m \u001b[0my_train\u001b[0m\u001b[0;34m)\u001b[0m\u001b[0;34m\u001b[0m\u001b[0;34m\u001b[0m\u001b[0m\n\u001b[0m\u001b[1;32m     28\u001b[0m \u001b[0;34m\u001b[0m\u001b[0m\n\u001b[1;32m     29\u001b[0m \u001b[0;31m# Get the best hyperparameters from the grid search\u001b[0m\u001b[0;34m\u001b[0m\u001b[0;34m\u001b[0m\u001b[0m\n",
            "\u001b[0;32m/usr/local/lib/python3.10/dist-packages/sklearn/model_selection/_search.py\u001b[0m in \u001b[0;36mfit\u001b[0;34m(self, X, y, groups, **fit_params)\u001b[0m\n\u001b[1;32m    872\u001b[0m                 \u001b[0;32mreturn\u001b[0m \u001b[0mresults\u001b[0m\u001b[0;34m\u001b[0m\u001b[0;34m\u001b[0m\u001b[0m\n\u001b[1;32m    873\u001b[0m \u001b[0;34m\u001b[0m\u001b[0m\n\u001b[0;32m--> 874\u001b[0;31m             \u001b[0mself\u001b[0m\u001b[0;34m.\u001b[0m\u001b[0m_run_search\u001b[0m\u001b[0;34m(\u001b[0m\u001b[0mevaluate_candidates\u001b[0m\u001b[0;34m)\u001b[0m\u001b[0;34m\u001b[0m\u001b[0;34m\u001b[0m\u001b[0m\n\u001b[0m\u001b[1;32m    875\u001b[0m \u001b[0;34m\u001b[0m\u001b[0m\n\u001b[1;32m    876\u001b[0m             \u001b[0;31m# multimetric is determined here because in the case of a callable\u001b[0m\u001b[0;34m\u001b[0m\u001b[0;34m\u001b[0m\u001b[0m\n",
            "\u001b[0;32m/usr/local/lib/python3.10/dist-packages/sklearn/model_selection/_search.py\u001b[0m in \u001b[0;36m_run_search\u001b[0;34m(self, evaluate_candidates)\u001b[0m\n\u001b[1;32m   1386\u001b[0m     \u001b[0;32mdef\u001b[0m \u001b[0m_run_search\u001b[0m\u001b[0;34m(\u001b[0m\u001b[0mself\u001b[0m\u001b[0;34m,\u001b[0m \u001b[0mevaluate_candidates\u001b[0m\u001b[0;34m)\u001b[0m\u001b[0;34m:\u001b[0m\u001b[0;34m\u001b[0m\u001b[0;34m\u001b[0m\u001b[0m\n\u001b[1;32m   1387\u001b[0m         \u001b[0;34m\"\"\"Search all candidates in param_grid\"\"\"\u001b[0m\u001b[0;34m\u001b[0m\u001b[0;34m\u001b[0m\u001b[0m\n\u001b[0;32m-> 1388\u001b[0;31m         \u001b[0mevaluate_candidates\u001b[0m\u001b[0;34m(\u001b[0m\u001b[0mParameterGrid\u001b[0m\u001b[0;34m(\u001b[0m\u001b[0mself\u001b[0m\u001b[0;34m.\u001b[0m\u001b[0mparam_grid\u001b[0m\u001b[0;34m)\u001b[0m\u001b[0;34m)\u001b[0m\u001b[0;34m\u001b[0m\u001b[0;34m\u001b[0m\u001b[0m\n\u001b[0m\u001b[1;32m   1389\u001b[0m \u001b[0;34m\u001b[0m\u001b[0m\n\u001b[1;32m   1390\u001b[0m \u001b[0;34m\u001b[0m\u001b[0m\n",
            "\u001b[0;32m/usr/local/lib/python3.10/dist-packages/sklearn/model_selection/_search.py\u001b[0m in \u001b[0;36mevaluate_candidates\u001b[0;34m(candidate_params, cv, more_results)\u001b[0m\n\u001b[1;32m    819\u001b[0m                     )\n\u001b[1;32m    820\u001b[0m \u001b[0;34m\u001b[0m\u001b[0m\n\u001b[0;32m--> 821\u001b[0;31m                 out = parallel(\n\u001b[0m\u001b[1;32m    822\u001b[0m                     delayed(_fit_and_score)(\n\u001b[1;32m    823\u001b[0m                         \u001b[0mclone\u001b[0m\u001b[0;34m(\u001b[0m\u001b[0mbase_estimator\u001b[0m\u001b[0;34m)\u001b[0m\u001b[0;34m,\u001b[0m\u001b[0;34m\u001b[0m\u001b[0;34m\u001b[0m\u001b[0m\n",
            "\u001b[0;32m/usr/local/lib/python3.10/dist-packages/sklearn/utils/parallel.py\u001b[0m in \u001b[0;36m__call__\u001b[0;34m(self, iterable)\u001b[0m\n\u001b[1;32m     61\u001b[0m             \u001b[0;32mfor\u001b[0m \u001b[0mdelayed_func\u001b[0m\u001b[0;34m,\u001b[0m \u001b[0margs\u001b[0m\u001b[0;34m,\u001b[0m \u001b[0mkwargs\u001b[0m \u001b[0;32min\u001b[0m \u001b[0miterable\u001b[0m\u001b[0;34m\u001b[0m\u001b[0;34m\u001b[0m\u001b[0m\n\u001b[1;32m     62\u001b[0m         )\n\u001b[0;32m---> 63\u001b[0;31m         \u001b[0;32mreturn\u001b[0m \u001b[0msuper\u001b[0m\u001b[0;34m(\u001b[0m\u001b[0;34m)\u001b[0m\u001b[0;34m.\u001b[0m\u001b[0m__call__\u001b[0m\u001b[0;34m(\u001b[0m\u001b[0miterable_with_config\u001b[0m\u001b[0;34m)\u001b[0m\u001b[0;34m\u001b[0m\u001b[0;34m\u001b[0m\u001b[0m\n\u001b[0m\u001b[1;32m     64\u001b[0m \u001b[0;34m\u001b[0m\u001b[0m\n\u001b[1;32m     65\u001b[0m \u001b[0;34m\u001b[0m\u001b[0m\n",
            "\u001b[0;32m/usr/local/lib/python3.10/dist-packages/joblib/parallel.py\u001b[0m in \u001b[0;36m__call__\u001b[0;34m(self, iterable)\u001b[0m\n\u001b[1;32m   1861\u001b[0m             \u001b[0moutput\u001b[0m \u001b[0;34m=\u001b[0m \u001b[0mself\u001b[0m\u001b[0;34m.\u001b[0m\u001b[0m_get_sequential_output\u001b[0m\u001b[0;34m(\u001b[0m\u001b[0miterable\u001b[0m\u001b[0;34m)\u001b[0m\u001b[0;34m\u001b[0m\u001b[0;34m\u001b[0m\u001b[0m\n\u001b[1;32m   1862\u001b[0m             \u001b[0mnext\u001b[0m\u001b[0;34m(\u001b[0m\u001b[0moutput\u001b[0m\u001b[0;34m)\u001b[0m\u001b[0;34m\u001b[0m\u001b[0;34m\u001b[0m\u001b[0m\n\u001b[0;32m-> 1863\u001b[0;31m             \u001b[0;32mreturn\u001b[0m \u001b[0moutput\u001b[0m \u001b[0;32mif\u001b[0m \u001b[0mself\u001b[0m\u001b[0;34m.\u001b[0m\u001b[0mreturn_generator\u001b[0m \u001b[0;32melse\u001b[0m \u001b[0mlist\u001b[0m\u001b[0;34m(\u001b[0m\u001b[0moutput\u001b[0m\u001b[0;34m)\u001b[0m\u001b[0;34m\u001b[0m\u001b[0;34m\u001b[0m\u001b[0m\n\u001b[0m\u001b[1;32m   1864\u001b[0m \u001b[0;34m\u001b[0m\u001b[0m\n\u001b[1;32m   1865\u001b[0m         \u001b[0;31m# Let's create an ID that uniquely identifies the current call. If the\u001b[0m\u001b[0;34m\u001b[0m\u001b[0;34m\u001b[0m\u001b[0m\n",
            "\u001b[0;32m/usr/local/lib/python3.10/dist-packages/joblib/parallel.py\u001b[0m in \u001b[0;36m_get_sequential_output\u001b[0;34m(self, iterable)\u001b[0m\n\u001b[1;32m   1790\u001b[0m                 \u001b[0mself\u001b[0m\u001b[0;34m.\u001b[0m\u001b[0mn_dispatched_batches\u001b[0m \u001b[0;34m+=\u001b[0m \u001b[0;36m1\u001b[0m\u001b[0;34m\u001b[0m\u001b[0;34m\u001b[0m\u001b[0m\n\u001b[1;32m   1791\u001b[0m                 \u001b[0mself\u001b[0m\u001b[0;34m.\u001b[0m\u001b[0mn_dispatched_tasks\u001b[0m \u001b[0;34m+=\u001b[0m \u001b[0;36m1\u001b[0m\u001b[0;34m\u001b[0m\u001b[0;34m\u001b[0m\u001b[0m\n\u001b[0;32m-> 1792\u001b[0;31m                 \u001b[0mres\u001b[0m \u001b[0;34m=\u001b[0m \u001b[0mfunc\u001b[0m\u001b[0;34m(\u001b[0m\u001b[0;34m*\u001b[0m\u001b[0margs\u001b[0m\u001b[0;34m,\u001b[0m \u001b[0;34m**\u001b[0m\u001b[0mkwargs\u001b[0m\u001b[0;34m)\u001b[0m\u001b[0;34m\u001b[0m\u001b[0;34m\u001b[0m\u001b[0m\n\u001b[0m\u001b[1;32m   1793\u001b[0m                 \u001b[0mself\u001b[0m\u001b[0;34m.\u001b[0m\u001b[0mn_completed_tasks\u001b[0m \u001b[0;34m+=\u001b[0m \u001b[0;36m1\u001b[0m\u001b[0;34m\u001b[0m\u001b[0;34m\u001b[0m\u001b[0m\n\u001b[1;32m   1794\u001b[0m                 \u001b[0mself\u001b[0m\u001b[0;34m.\u001b[0m\u001b[0mprint_progress\u001b[0m\u001b[0;34m(\u001b[0m\u001b[0;34m)\u001b[0m\u001b[0;34m\u001b[0m\u001b[0;34m\u001b[0m\u001b[0m\n",
            "\u001b[0;32m/usr/local/lib/python3.10/dist-packages/sklearn/utils/parallel.py\u001b[0m in \u001b[0;36m__call__\u001b[0;34m(self, *args, **kwargs)\u001b[0m\n\u001b[1;32m    121\u001b[0m             \u001b[0mconfig\u001b[0m \u001b[0;34m=\u001b[0m \u001b[0;34m{\u001b[0m\u001b[0;34m}\u001b[0m\u001b[0;34m\u001b[0m\u001b[0;34m\u001b[0m\u001b[0m\n\u001b[1;32m    122\u001b[0m         \u001b[0;32mwith\u001b[0m \u001b[0mconfig_context\u001b[0m\u001b[0;34m(\u001b[0m\u001b[0;34m**\u001b[0m\u001b[0mconfig\u001b[0m\u001b[0;34m)\u001b[0m\u001b[0;34m:\u001b[0m\u001b[0;34m\u001b[0m\u001b[0;34m\u001b[0m\u001b[0m\n\u001b[0;32m--> 123\u001b[0;31m             \u001b[0;32mreturn\u001b[0m \u001b[0mself\u001b[0m\u001b[0;34m.\u001b[0m\u001b[0mfunction\u001b[0m\u001b[0;34m(\u001b[0m\u001b[0;34m*\u001b[0m\u001b[0margs\u001b[0m\u001b[0;34m,\u001b[0m \u001b[0;34m**\u001b[0m\u001b[0mkwargs\u001b[0m\u001b[0;34m)\u001b[0m\u001b[0;34m\u001b[0m\u001b[0;34m\u001b[0m\u001b[0m\n\u001b[0m",
            "\u001b[0;32m/usr/local/lib/python3.10/dist-packages/sklearn/model_selection/_validation.py\u001b[0m in \u001b[0;36m_fit_and_score\u001b[0;34m(estimator, X, y, scorer, train, test, verbose, parameters, fit_params, return_train_score, return_parameters, return_n_test_samples, return_times, return_estimator, split_progress, candidate_progress, error_score)\u001b[0m\n\u001b[1;32m    684\u001b[0m             \u001b[0mestimator\u001b[0m\u001b[0;34m.\u001b[0m\u001b[0mfit\u001b[0m\u001b[0;34m(\u001b[0m\u001b[0mX_train\u001b[0m\u001b[0;34m,\u001b[0m \u001b[0;34m**\u001b[0m\u001b[0mfit_params\u001b[0m\u001b[0;34m)\u001b[0m\u001b[0;34m\u001b[0m\u001b[0;34m\u001b[0m\u001b[0m\n\u001b[1;32m    685\u001b[0m         \u001b[0;32melse\u001b[0m\u001b[0;34m:\u001b[0m\u001b[0;34m\u001b[0m\u001b[0;34m\u001b[0m\u001b[0m\n\u001b[0;32m--> 686\u001b[0;31m             \u001b[0mestimator\u001b[0m\u001b[0;34m.\u001b[0m\u001b[0mfit\u001b[0m\u001b[0;34m(\u001b[0m\u001b[0mX_train\u001b[0m\u001b[0;34m,\u001b[0m \u001b[0my_train\u001b[0m\u001b[0;34m,\u001b[0m \u001b[0;34m**\u001b[0m\u001b[0mfit_params\u001b[0m\u001b[0;34m)\u001b[0m\u001b[0;34m\u001b[0m\u001b[0;34m\u001b[0m\u001b[0m\n\u001b[0m\u001b[1;32m    687\u001b[0m \u001b[0;34m\u001b[0m\u001b[0m\n\u001b[1;32m    688\u001b[0m     \u001b[0;32mexcept\u001b[0m \u001b[0mException\u001b[0m\u001b[0;34m:\u001b[0m\u001b[0;34m\u001b[0m\u001b[0;34m\u001b[0m\u001b[0m\n",
            "\u001b[0;32m/usr/local/lib/python3.10/dist-packages/sklearn/ensemble/_forest.py\u001b[0m in \u001b[0;36mfit\u001b[0;34m(self, X, y, sample_weight)\u001b[0m\n\u001b[1;32m    471\u001b[0m             \u001b[0;31m# parallel_backend contexts set at a higher level,\u001b[0m\u001b[0;34m\u001b[0m\u001b[0;34m\u001b[0m\u001b[0m\n\u001b[1;32m    472\u001b[0m             \u001b[0;31m# since correctness does not rely on using threads.\u001b[0m\u001b[0;34m\u001b[0m\u001b[0;34m\u001b[0m\u001b[0m\n\u001b[0;32m--> 473\u001b[0;31m             trees = Parallel(\n\u001b[0m\u001b[1;32m    474\u001b[0m                 \u001b[0mn_jobs\u001b[0m\u001b[0;34m=\u001b[0m\u001b[0mself\u001b[0m\u001b[0;34m.\u001b[0m\u001b[0mn_jobs\u001b[0m\u001b[0;34m,\u001b[0m\u001b[0;34m\u001b[0m\u001b[0;34m\u001b[0m\u001b[0m\n\u001b[1;32m    475\u001b[0m                 \u001b[0mverbose\u001b[0m\u001b[0;34m=\u001b[0m\u001b[0mself\u001b[0m\u001b[0;34m.\u001b[0m\u001b[0mverbose\u001b[0m\u001b[0;34m,\u001b[0m\u001b[0;34m\u001b[0m\u001b[0;34m\u001b[0m\u001b[0m\n",
            "\u001b[0;32m/usr/local/lib/python3.10/dist-packages/sklearn/utils/parallel.py\u001b[0m in \u001b[0;36m__call__\u001b[0;34m(self, iterable)\u001b[0m\n\u001b[1;32m     61\u001b[0m             \u001b[0;32mfor\u001b[0m \u001b[0mdelayed_func\u001b[0m\u001b[0;34m,\u001b[0m \u001b[0margs\u001b[0m\u001b[0;34m,\u001b[0m \u001b[0mkwargs\u001b[0m \u001b[0;32min\u001b[0m \u001b[0miterable\u001b[0m\u001b[0;34m\u001b[0m\u001b[0;34m\u001b[0m\u001b[0m\n\u001b[1;32m     62\u001b[0m         )\n\u001b[0;32m---> 63\u001b[0;31m         \u001b[0;32mreturn\u001b[0m \u001b[0msuper\u001b[0m\u001b[0;34m(\u001b[0m\u001b[0;34m)\u001b[0m\u001b[0;34m.\u001b[0m\u001b[0m__call__\u001b[0m\u001b[0;34m(\u001b[0m\u001b[0miterable_with_config\u001b[0m\u001b[0;34m)\u001b[0m\u001b[0;34m\u001b[0m\u001b[0;34m\u001b[0m\u001b[0m\n\u001b[0m\u001b[1;32m     64\u001b[0m \u001b[0;34m\u001b[0m\u001b[0m\n\u001b[1;32m     65\u001b[0m \u001b[0;34m\u001b[0m\u001b[0m\n",
            "\u001b[0;32m/usr/local/lib/python3.10/dist-packages/joblib/parallel.py\u001b[0m in \u001b[0;36m__call__\u001b[0;34m(self, iterable)\u001b[0m\n\u001b[1;32m   1861\u001b[0m             \u001b[0moutput\u001b[0m \u001b[0;34m=\u001b[0m \u001b[0mself\u001b[0m\u001b[0;34m.\u001b[0m\u001b[0m_get_sequential_output\u001b[0m\u001b[0;34m(\u001b[0m\u001b[0miterable\u001b[0m\u001b[0;34m)\u001b[0m\u001b[0;34m\u001b[0m\u001b[0;34m\u001b[0m\u001b[0m\n\u001b[1;32m   1862\u001b[0m             \u001b[0mnext\u001b[0m\u001b[0;34m(\u001b[0m\u001b[0moutput\u001b[0m\u001b[0;34m)\u001b[0m\u001b[0;34m\u001b[0m\u001b[0;34m\u001b[0m\u001b[0m\n\u001b[0;32m-> 1863\u001b[0;31m             \u001b[0;32mreturn\u001b[0m \u001b[0moutput\u001b[0m \u001b[0;32mif\u001b[0m \u001b[0mself\u001b[0m\u001b[0;34m.\u001b[0m\u001b[0mreturn_generator\u001b[0m \u001b[0;32melse\u001b[0m \u001b[0mlist\u001b[0m\u001b[0;34m(\u001b[0m\u001b[0moutput\u001b[0m\u001b[0;34m)\u001b[0m\u001b[0;34m\u001b[0m\u001b[0;34m\u001b[0m\u001b[0m\n\u001b[0m\u001b[1;32m   1864\u001b[0m \u001b[0;34m\u001b[0m\u001b[0m\n\u001b[1;32m   1865\u001b[0m         \u001b[0;31m# Let's create an ID that uniquely identifies the current call. If the\u001b[0m\u001b[0;34m\u001b[0m\u001b[0;34m\u001b[0m\u001b[0m\n",
            "\u001b[0;32m/usr/local/lib/python3.10/dist-packages/joblib/parallel.py\u001b[0m in \u001b[0;36m_get_sequential_output\u001b[0;34m(self, iterable)\u001b[0m\n\u001b[1;32m   1790\u001b[0m                 \u001b[0mself\u001b[0m\u001b[0;34m.\u001b[0m\u001b[0mn_dispatched_batches\u001b[0m \u001b[0;34m+=\u001b[0m \u001b[0;36m1\u001b[0m\u001b[0;34m\u001b[0m\u001b[0;34m\u001b[0m\u001b[0m\n\u001b[1;32m   1791\u001b[0m                 \u001b[0mself\u001b[0m\u001b[0;34m.\u001b[0m\u001b[0mn_dispatched_tasks\u001b[0m \u001b[0;34m+=\u001b[0m \u001b[0;36m1\u001b[0m\u001b[0;34m\u001b[0m\u001b[0;34m\u001b[0m\u001b[0m\n\u001b[0;32m-> 1792\u001b[0;31m                 \u001b[0mres\u001b[0m \u001b[0;34m=\u001b[0m \u001b[0mfunc\u001b[0m\u001b[0;34m(\u001b[0m\u001b[0;34m*\u001b[0m\u001b[0margs\u001b[0m\u001b[0;34m,\u001b[0m \u001b[0;34m**\u001b[0m\u001b[0mkwargs\u001b[0m\u001b[0;34m)\u001b[0m\u001b[0;34m\u001b[0m\u001b[0;34m\u001b[0m\u001b[0m\n\u001b[0m\u001b[1;32m   1793\u001b[0m                 \u001b[0mself\u001b[0m\u001b[0;34m.\u001b[0m\u001b[0mn_completed_tasks\u001b[0m \u001b[0;34m+=\u001b[0m \u001b[0;36m1\u001b[0m\u001b[0;34m\u001b[0m\u001b[0;34m\u001b[0m\u001b[0m\n\u001b[1;32m   1794\u001b[0m                 \u001b[0mself\u001b[0m\u001b[0;34m.\u001b[0m\u001b[0mprint_progress\u001b[0m\u001b[0;34m(\u001b[0m\u001b[0;34m)\u001b[0m\u001b[0;34m\u001b[0m\u001b[0;34m\u001b[0m\u001b[0m\n",
            "\u001b[0;32m/usr/local/lib/python3.10/dist-packages/sklearn/utils/parallel.py\u001b[0m in \u001b[0;36m__call__\u001b[0;34m(self, *args, **kwargs)\u001b[0m\n\u001b[1;32m    121\u001b[0m             \u001b[0mconfig\u001b[0m \u001b[0;34m=\u001b[0m \u001b[0;34m{\u001b[0m\u001b[0;34m}\u001b[0m\u001b[0;34m\u001b[0m\u001b[0;34m\u001b[0m\u001b[0m\n\u001b[1;32m    122\u001b[0m         \u001b[0;32mwith\u001b[0m \u001b[0mconfig_context\u001b[0m\u001b[0;34m(\u001b[0m\u001b[0;34m**\u001b[0m\u001b[0mconfig\u001b[0m\u001b[0;34m)\u001b[0m\u001b[0;34m:\u001b[0m\u001b[0;34m\u001b[0m\u001b[0;34m\u001b[0m\u001b[0m\n\u001b[0;32m--> 123\u001b[0;31m             \u001b[0;32mreturn\u001b[0m \u001b[0mself\u001b[0m\u001b[0;34m.\u001b[0m\u001b[0mfunction\u001b[0m\u001b[0;34m(\u001b[0m\u001b[0;34m*\u001b[0m\u001b[0margs\u001b[0m\u001b[0;34m,\u001b[0m \u001b[0;34m**\u001b[0m\u001b[0mkwargs\u001b[0m\u001b[0;34m)\u001b[0m\u001b[0;34m\u001b[0m\u001b[0;34m\u001b[0m\u001b[0m\n\u001b[0m",
            "\u001b[0;32m/usr/local/lib/python3.10/dist-packages/sklearn/ensemble/_forest.py\u001b[0m in \u001b[0;36m_parallel_build_trees\u001b[0;34m(tree, bootstrap, X, y, sample_weight, tree_idx, n_trees, verbose, class_weight, n_samples_bootstrap)\u001b[0m\n\u001b[1;32m    182\u001b[0m             \u001b[0mcurr_sample_weight\u001b[0m \u001b[0;34m*=\u001b[0m \u001b[0mcompute_sample_weight\u001b[0m\u001b[0;34m(\u001b[0m\u001b[0;34m\"balanced\"\u001b[0m\u001b[0;34m,\u001b[0m \u001b[0my\u001b[0m\u001b[0;34m,\u001b[0m \u001b[0mindices\u001b[0m\u001b[0;34m=\u001b[0m\u001b[0mindices\u001b[0m\u001b[0;34m)\u001b[0m\u001b[0;34m\u001b[0m\u001b[0;34m\u001b[0m\u001b[0m\n\u001b[1;32m    183\u001b[0m \u001b[0;34m\u001b[0m\u001b[0m\n\u001b[0;32m--> 184\u001b[0;31m         \u001b[0mtree\u001b[0m\u001b[0;34m.\u001b[0m\u001b[0mfit\u001b[0m\u001b[0;34m(\u001b[0m\u001b[0mX\u001b[0m\u001b[0;34m,\u001b[0m \u001b[0my\u001b[0m\u001b[0;34m,\u001b[0m \u001b[0msample_weight\u001b[0m\u001b[0;34m=\u001b[0m\u001b[0mcurr_sample_weight\u001b[0m\u001b[0;34m,\u001b[0m \u001b[0mcheck_input\u001b[0m\u001b[0;34m=\u001b[0m\u001b[0;32mFalse\u001b[0m\u001b[0;34m)\u001b[0m\u001b[0;34m\u001b[0m\u001b[0;34m\u001b[0m\u001b[0m\n\u001b[0m\u001b[1;32m    185\u001b[0m     \u001b[0;32melse\u001b[0m\u001b[0;34m:\u001b[0m\u001b[0;34m\u001b[0m\u001b[0;34m\u001b[0m\u001b[0m\n\u001b[1;32m    186\u001b[0m         \u001b[0mtree\u001b[0m\u001b[0;34m.\u001b[0m\u001b[0mfit\u001b[0m\u001b[0;34m(\u001b[0m\u001b[0mX\u001b[0m\u001b[0;34m,\u001b[0m \u001b[0my\u001b[0m\u001b[0;34m,\u001b[0m \u001b[0msample_weight\u001b[0m\u001b[0;34m=\u001b[0m\u001b[0msample_weight\u001b[0m\u001b[0;34m,\u001b[0m \u001b[0mcheck_input\u001b[0m\u001b[0;34m=\u001b[0m\u001b[0;32mFalse\u001b[0m\u001b[0;34m)\u001b[0m\u001b[0;34m\u001b[0m\u001b[0;34m\u001b[0m\u001b[0m\n",
            "\u001b[0;32m/usr/local/lib/python3.10/dist-packages/sklearn/tree/_classes.py\u001b[0m in \u001b[0;36mfit\u001b[0;34m(self, X, y, sample_weight, check_input)\u001b[0m\n\u001b[1;32m   1245\u001b[0m         \"\"\"\n\u001b[1;32m   1246\u001b[0m \u001b[0;34m\u001b[0m\u001b[0m\n\u001b[0;32m-> 1247\u001b[0;31m         super().fit(\n\u001b[0m\u001b[1;32m   1248\u001b[0m             \u001b[0mX\u001b[0m\u001b[0;34m,\u001b[0m\u001b[0;34m\u001b[0m\u001b[0;34m\u001b[0m\u001b[0m\n\u001b[1;32m   1249\u001b[0m             \u001b[0my\u001b[0m\u001b[0;34m,\u001b[0m\u001b[0;34m\u001b[0m\u001b[0;34m\u001b[0m\u001b[0m\n",
            "\u001b[0;32m/usr/local/lib/python3.10/dist-packages/sklearn/tree/_classes.py\u001b[0m in \u001b[0;36mfit\u001b[0;34m(self, X, y, sample_weight, check_input)\u001b[0m\n\u001b[1;32m    377\u001b[0m             )\n\u001b[1;32m    378\u001b[0m \u001b[0;34m\u001b[0m\u001b[0m\n\u001b[0;32m--> 379\u001b[0;31m         \u001b[0mbuilder\u001b[0m\u001b[0;34m.\u001b[0m\u001b[0mbuild\u001b[0m\u001b[0;34m(\u001b[0m\u001b[0mself\u001b[0m\u001b[0;34m.\u001b[0m\u001b[0mtree_\u001b[0m\u001b[0;34m,\u001b[0m \u001b[0mX\u001b[0m\u001b[0;34m,\u001b[0m \u001b[0my\u001b[0m\u001b[0;34m,\u001b[0m \u001b[0msample_weight\u001b[0m\u001b[0;34m)\u001b[0m\u001b[0;34m\u001b[0m\u001b[0;34m\u001b[0m\u001b[0m\n\u001b[0m\u001b[1;32m    380\u001b[0m \u001b[0;34m\u001b[0m\u001b[0m\n\u001b[1;32m    381\u001b[0m         \u001b[0;32mif\u001b[0m \u001b[0mself\u001b[0m\u001b[0;34m.\u001b[0m\u001b[0mn_outputs_\u001b[0m \u001b[0;34m==\u001b[0m \u001b[0;36m1\u001b[0m \u001b[0;32mand\u001b[0m \u001b[0mis_classifier\u001b[0m\u001b[0;34m(\u001b[0m\u001b[0mself\u001b[0m\u001b[0;34m)\u001b[0m\u001b[0;34m:\u001b[0m\u001b[0;34m\u001b[0m\u001b[0;34m\u001b[0m\u001b[0m\n",
            "\u001b[0;31mKeyboardInterrupt\u001b[0m: "
          ]
        }
      ]
    },
    {
      "cell_type": "code",
      "source": [
        "X_train"
      ],
      "metadata": {
        "colab": {
          "base_uri": "https://localhost:8080/",
          "height": 423
        },
        "id": "GLDenGzspyU4",
        "outputId": "805eb2c3-7244-40c7-aea6-12f48dab047b"
      },
      "execution_count": null,
      "outputs": [
        {
          "output_type": "execute_result",
          "data": {
            "text/plain": [
              "           TP2  DV_eletric  Oil_temperature    TP3  Reservoirs  DV_pressure  \\\n",
              "164157  -0.014         0.0           54.650  8.688       8.692       -0.020   \n",
              "870054  -0.012         0.0           61.200  8.546       8.546       -0.018   \n",
              "171672  -0.012         0.0           57.800  9.006       9.012       -0.016   \n",
              "13639   -0.010         0.0           57.225  9.562       9.564       -0.020   \n",
              "1376553 -0.010         0.0           64.150  8.820       8.820       -0.018   \n",
              "...        ...         ...              ...    ...         ...          ...   \n",
              "321502  -0.014         0.0           63.775  9.474       9.470       -0.024   \n",
              "441633  -0.014         0.0           56.400  8.148       8.150       -0.024   \n",
              "677997  -0.014         0.0           55.600  8.628       8.626       -0.022   \n",
              "239499  -0.014         0.0           61.875  8.406       8.404       -0.024   \n",
              "1152480 -0.008         0.0           70.225  9.410       9.412       -0.014   \n",
              "\n",
              "         Towers     H1  COMP  MPG  \n",
              "164157      1.0  8.676   1.0  1.0  \n",
              "870054      1.0  8.534   1.0  1.0  \n",
              "171672      1.0  8.992   1.0  1.0  \n",
              "13639       1.0  9.546   1.0  1.0  \n",
              "1376553     1.0  8.808   1.0  1.0  \n",
              "...         ...    ...   ...  ...  \n",
              "321502      1.0  9.462   1.0  1.0  \n",
              "441633      1.0  8.138   1.0  1.0  \n",
              "677997      1.0  8.616   1.0  1.0  \n",
              "239499      1.0  8.394   1.0  1.0  \n",
              "1152480     1.0  9.398   1.0  1.0  \n",
              "\n",
              "[1137711 rows x 10 columns]"
            ],
            "text/html": [
              "\n",
              "  <div id=\"df-39527177-d16c-4c16-9d7c-7a19f2d0dd67\" class=\"colab-df-container\">\n",
              "    <div>\n",
              "<style scoped>\n",
              "    .dataframe tbody tr th:only-of-type {\n",
              "        vertical-align: middle;\n",
              "    }\n",
              "\n",
              "    .dataframe tbody tr th {\n",
              "        vertical-align: top;\n",
              "    }\n",
              "\n",
              "    .dataframe thead th {\n",
              "        text-align: right;\n",
              "    }\n",
              "</style>\n",
              "<table border=\"1\" class=\"dataframe\">\n",
              "  <thead>\n",
              "    <tr style=\"text-align: right;\">\n",
              "      <th></th>\n",
              "      <th>TP2</th>\n",
              "      <th>DV_eletric</th>\n",
              "      <th>Oil_temperature</th>\n",
              "      <th>TP3</th>\n",
              "      <th>Reservoirs</th>\n",
              "      <th>DV_pressure</th>\n",
              "      <th>Towers</th>\n",
              "      <th>H1</th>\n",
              "      <th>COMP</th>\n",
              "      <th>MPG</th>\n",
              "    </tr>\n",
              "  </thead>\n",
              "  <tbody>\n",
              "    <tr>\n",
              "      <th>164157</th>\n",
              "      <td>-0.014</td>\n",
              "      <td>0.0</td>\n",
              "      <td>54.650</td>\n",
              "      <td>8.688</td>\n",
              "      <td>8.692</td>\n",
              "      <td>-0.020</td>\n",
              "      <td>1.0</td>\n",
              "      <td>8.676</td>\n",
              "      <td>1.0</td>\n",
              "      <td>1.0</td>\n",
              "    </tr>\n",
              "    <tr>\n",
              "      <th>870054</th>\n",
              "      <td>-0.012</td>\n",
              "      <td>0.0</td>\n",
              "      <td>61.200</td>\n",
              "      <td>8.546</td>\n",
              "      <td>8.546</td>\n",
              "      <td>-0.018</td>\n",
              "      <td>1.0</td>\n",
              "      <td>8.534</td>\n",
              "      <td>1.0</td>\n",
              "      <td>1.0</td>\n",
              "    </tr>\n",
              "    <tr>\n",
              "      <th>171672</th>\n",
              "      <td>-0.012</td>\n",
              "      <td>0.0</td>\n",
              "      <td>57.800</td>\n",
              "      <td>9.006</td>\n",
              "      <td>9.012</td>\n",
              "      <td>-0.016</td>\n",
              "      <td>1.0</td>\n",
              "      <td>8.992</td>\n",
              "      <td>1.0</td>\n",
              "      <td>1.0</td>\n",
              "    </tr>\n",
              "    <tr>\n",
              "      <th>13639</th>\n",
              "      <td>-0.010</td>\n",
              "      <td>0.0</td>\n",
              "      <td>57.225</td>\n",
              "      <td>9.562</td>\n",
              "      <td>9.564</td>\n",
              "      <td>-0.020</td>\n",
              "      <td>1.0</td>\n",
              "      <td>9.546</td>\n",
              "      <td>1.0</td>\n",
              "      <td>1.0</td>\n",
              "    </tr>\n",
              "    <tr>\n",
              "      <th>1376553</th>\n",
              "      <td>-0.010</td>\n",
              "      <td>0.0</td>\n",
              "      <td>64.150</td>\n",
              "      <td>8.820</td>\n",
              "      <td>8.820</td>\n",
              "      <td>-0.018</td>\n",
              "      <td>1.0</td>\n",
              "      <td>8.808</td>\n",
              "      <td>1.0</td>\n",
              "      <td>1.0</td>\n",
              "    </tr>\n",
              "    <tr>\n",
              "      <th>...</th>\n",
              "      <td>...</td>\n",
              "      <td>...</td>\n",
              "      <td>...</td>\n",
              "      <td>...</td>\n",
              "      <td>...</td>\n",
              "      <td>...</td>\n",
              "      <td>...</td>\n",
              "      <td>...</td>\n",
              "      <td>...</td>\n",
              "      <td>...</td>\n",
              "    </tr>\n",
              "    <tr>\n",
              "      <th>321502</th>\n",
              "      <td>-0.014</td>\n",
              "      <td>0.0</td>\n",
              "      <td>63.775</td>\n",
              "      <td>9.474</td>\n",
              "      <td>9.470</td>\n",
              "      <td>-0.024</td>\n",
              "      <td>1.0</td>\n",
              "      <td>9.462</td>\n",
              "      <td>1.0</td>\n",
              "      <td>1.0</td>\n",
              "    </tr>\n",
              "    <tr>\n",
              "      <th>441633</th>\n",
              "      <td>-0.014</td>\n",
              "      <td>0.0</td>\n",
              "      <td>56.400</td>\n",
              "      <td>8.148</td>\n",
              "      <td>8.150</td>\n",
              "      <td>-0.024</td>\n",
              "      <td>1.0</td>\n",
              "      <td>8.138</td>\n",
              "      <td>1.0</td>\n",
              "      <td>1.0</td>\n",
              "    </tr>\n",
              "    <tr>\n",
              "      <th>677997</th>\n",
              "      <td>-0.014</td>\n",
              "      <td>0.0</td>\n",
              "      <td>55.600</td>\n",
              "      <td>8.628</td>\n",
              "      <td>8.626</td>\n",
              "      <td>-0.022</td>\n",
              "      <td>1.0</td>\n",
              "      <td>8.616</td>\n",
              "      <td>1.0</td>\n",
              "      <td>1.0</td>\n",
              "    </tr>\n",
              "    <tr>\n",
              "      <th>239499</th>\n",
              "      <td>-0.014</td>\n",
              "      <td>0.0</td>\n",
              "      <td>61.875</td>\n",
              "      <td>8.406</td>\n",
              "      <td>8.404</td>\n",
              "      <td>-0.024</td>\n",
              "      <td>1.0</td>\n",
              "      <td>8.394</td>\n",
              "      <td>1.0</td>\n",
              "      <td>1.0</td>\n",
              "    </tr>\n",
              "    <tr>\n",
              "      <th>1152480</th>\n",
              "      <td>-0.008</td>\n",
              "      <td>0.0</td>\n",
              "      <td>70.225</td>\n",
              "      <td>9.410</td>\n",
              "      <td>9.412</td>\n",
              "      <td>-0.014</td>\n",
              "      <td>1.0</td>\n",
              "      <td>9.398</td>\n",
              "      <td>1.0</td>\n",
              "      <td>1.0</td>\n",
              "    </tr>\n",
              "  </tbody>\n",
              "</table>\n",
              "<p>1137711 rows × 10 columns</p>\n",
              "</div>\n",
              "    <div class=\"colab-df-buttons\">\n",
              "\n",
              "  <div class=\"colab-df-container\">\n",
              "    <button class=\"colab-df-convert\" onclick=\"convertToInteractive('df-39527177-d16c-4c16-9d7c-7a19f2d0dd67')\"\n",
              "            title=\"Convert this dataframe to an interactive table.\"\n",
              "            style=\"display:none;\">\n",
              "\n",
              "  <svg xmlns=\"http://www.w3.org/2000/svg\" height=\"24px\" viewBox=\"0 -960 960 960\">\n",
              "    <path d=\"M120-120v-720h720v720H120Zm60-500h600v-160H180v160Zm220 220h160v-160H400v160Zm0 220h160v-160H400v160ZM180-400h160v-160H180v160Zm440 0h160v-160H620v160ZM180-180h160v-160H180v160Zm440 0h160v-160H620v160Z\"/>\n",
              "  </svg>\n",
              "    </button>\n",
              "\n",
              "  <style>\n",
              "    .colab-df-container {\n",
              "      display:flex;\n",
              "      gap: 12px;\n",
              "    }\n",
              "\n",
              "    .colab-df-convert {\n",
              "      background-color: #E8F0FE;\n",
              "      border: none;\n",
              "      border-radius: 50%;\n",
              "      cursor: pointer;\n",
              "      display: none;\n",
              "      fill: #1967D2;\n",
              "      height: 32px;\n",
              "      padding: 0 0 0 0;\n",
              "      width: 32px;\n",
              "    }\n",
              "\n",
              "    .colab-df-convert:hover {\n",
              "      background-color: #E2EBFA;\n",
              "      box-shadow: 0px 1px 2px rgba(60, 64, 67, 0.3), 0px 1px 3px 1px rgba(60, 64, 67, 0.15);\n",
              "      fill: #174EA6;\n",
              "    }\n",
              "\n",
              "    .colab-df-buttons div {\n",
              "      margin-bottom: 4px;\n",
              "    }\n",
              "\n",
              "    [theme=dark] .colab-df-convert {\n",
              "      background-color: #3B4455;\n",
              "      fill: #D2E3FC;\n",
              "    }\n",
              "\n",
              "    [theme=dark] .colab-df-convert:hover {\n",
              "      background-color: #434B5C;\n",
              "      box-shadow: 0px 1px 3px 1px rgba(0, 0, 0, 0.15);\n",
              "      filter: drop-shadow(0px 1px 2px rgba(0, 0, 0, 0.3));\n",
              "      fill: #FFFFFF;\n",
              "    }\n",
              "  </style>\n",
              "\n",
              "    <script>\n",
              "      const buttonEl =\n",
              "        document.querySelector('#df-39527177-d16c-4c16-9d7c-7a19f2d0dd67 button.colab-df-convert');\n",
              "      buttonEl.style.display =\n",
              "        google.colab.kernel.accessAllowed ? 'block' : 'none';\n",
              "\n",
              "      async function convertToInteractive(key) {\n",
              "        const element = document.querySelector('#df-39527177-d16c-4c16-9d7c-7a19f2d0dd67');\n",
              "        const dataTable =\n",
              "          await google.colab.kernel.invokeFunction('convertToInteractive',\n",
              "                                                    [key], {});\n",
              "        if (!dataTable) return;\n",
              "\n",
              "        const docLinkHtml = 'Like what you see? Visit the ' +\n",
              "          '<a target=\"_blank\" href=https://colab.research.google.com/notebooks/data_table.ipynb>data table notebook</a>'\n",
              "          + ' to learn more about interactive tables.';\n",
              "        element.innerHTML = '';\n",
              "        dataTable['output_type'] = 'display_data';\n",
              "        await google.colab.output.renderOutput(dataTable, element);\n",
              "        const docLink = document.createElement('div');\n",
              "        docLink.innerHTML = docLinkHtml;\n",
              "        element.appendChild(docLink);\n",
              "      }\n",
              "    </script>\n",
              "  </div>\n",
              "\n",
              "\n",
              "<div id=\"df-ea88663a-da9b-4579-a48d-292520657fa4\">\n",
              "  <button class=\"colab-df-quickchart\" onclick=\"quickchart('df-ea88663a-da9b-4579-a48d-292520657fa4')\"\n",
              "            title=\"Suggest charts.\"\n",
              "            style=\"display:none;\">\n",
              "\n",
              "<svg xmlns=\"http://www.w3.org/2000/svg\" height=\"24px\"viewBox=\"0 0 24 24\"\n",
              "     width=\"24px\">\n",
              "    <g>\n",
              "        <path d=\"M19 3H5c-1.1 0-2 .9-2 2v14c0 1.1.9 2 2 2h14c1.1 0 2-.9 2-2V5c0-1.1-.9-2-2-2zM9 17H7v-7h2v7zm4 0h-2V7h2v10zm4 0h-2v-4h2v4z\"/>\n",
              "    </g>\n",
              "</svg>\n",
              "  </button>\n",
              "\n",
              "<style>\n",
              "  .colab-df-quickchart {\n",
              "      --bg-color: #E8F0FE;\n",
              "      --fill-color: #1967D2;\n",
              "      --hover-bg-color: #E2EBFA;\n",
              "      --hover-fill-color: #174EA6;\n",
              "      --disabled-fill-color: #AAA;\n",
              "      --disabled-bg-color: #DDD;\n",
              "  }\n",
              "\n",
              "  [theme=dark] .colab-df-quickchart {\n",
              "      --bg-color: #3B4455;\n",
              "      --fill-color: #D2E3FC;\n",
              "      --hover-bg-color: #434B5C;\n",
              "      --hover-fill-color: #FFFFFF;\n",
              "      --disabled-bg-color: #3B4455;\n",
              "      --disabled-fill-color: #666;\n",
              "  }\n",
              "\n",
              "  .colab-df-quickchart {\n",
              "    background-color: var(--bg-color);\n",
              "    border: none;\n",
              "    border-radius: 50%;\n",
              "    cursor: pointer;\n",
              "    display: none;\n",
              "    fill: var(--fill-color);\n",
              "    height: 32px;\n",
              "    padding: 0;\n",
              "    width: 32px;\n",
              "  }\n",
              "\n",
              "  .colab-df-quickchart:hover {\n",
              "    background-color: var(--hover-bg-color);\n",
              "    box-shadow: 0 1px 2px rgba(60, 64, 67, 0.3), 0 1px 3px 1px rgba(60, 64, 67, 0.15);\n",
              "    fill: var(--button-hover-fill-color);\n",
              "  }\n",
              "\n",
              "  .colab-df-quickchart-complete:disabled,\n",
              "  .colab-df-quickchart-complete:disabled:hover {\n",
              "    background-color: var(--disabled-bg-color);\n",
              "    fill: var(--disabled-fill-color);\n",
              "    box-shadow: none;\n",
              "  }\n",
              "\n",
              "  .colab-df-spinner {\n",
              "    border: 2px solid var(--fill-color);\n",
              "    border-color: transparent;\n",
              "    border-bottom-color: var(--fill-color);\n",
              "    animation:\n",
              "      spin 1s steps(1) infinite;\n",
              "  }\n",
              "\n",
              "  @keyframes spin {\n",
              "    0% {\n",
              "      border-color: transparent;\n",
              "      border-bottom-color: var(--fill-color);\n",
              "      border-left-color: var(--fill-color);\n",
              "    }\n",
              "    20% {\n",
              "      border-color: transparent;\n",
              "      border-left-color: var(--fill-color);\n",
              "      border-top-color: var(--fill-color);\n",
              "    }\n",
              "    30% {\n",
              "      border-color: transparent;\n",
              "      border-left-color: var(--fill-color);\n",
              "      border-top-color: var(--fill-color);\n",
              "      border-right-color: var(--fill-color);\n",
              "    }\n",
              "    40% {\n",
              "      border-color: transparent;\n",
              "      border-right-color: var(--fill-color);\n",
              "      border-top-color: var(--fill-color);\n",
              "    }\n",
              "    60% {\n",
              "      border-color: transparent;\n",
              "      border-right-color: var(--fill-color);\n",
              "    }\n",
              "    80% {\n",
              "      border-color: transparent;\n",
              "      border-right-color: var(--fill-color);\n",
              "      border-bottom-color: var(--fill-color);\n",
              "    }\n",
              "    90% {\n",
              "      border-color: transparent;\n",
              "      border-bottom-color: var(--fill-color);\n",
              "    }\n",
              "  }\n",
              "</style>\n",
              "\n",
              "  <script>\n",
              "    async function quickchart(key) {\n",
              "      const quickchartButtonEl =\n",
              "        document.querySelector('#' + key + ' button');\n",
              "      quickchartButtonEl.disabled = true;  // To prevent multiple clicks.\n",
              "      quickchartButtonEl.classList.add('colab-df-spinner');\n",
              "      try {\n",
              "        const charts = await google.colab.kernel.invokeFunction(\n",
              "            'suggestCharts', [key], {});\n",
              "      } catch (error) {\n",
              "        console.error('Error during call to suggestCharts:', error);\n",
              "      }\n",
              "      quickchartButtonEl.classList.remove('colab-df-spinner');\n",
              "      quickchartButtonEl.classList.add('colab-df-quickchart-complete');\n",
              "    }\n",
              "    (() => {\n",
              "      let quickchartButtonEl =\n",
              "        document.querySelector('#df-ea88663a-da9b-4579-a48d-292520657fa4 button');\n",
              "      quickchartButtonEl.style.display =\n",
              "        google.colab.kernel.accessAllowed ? 'block' : 'none';\n",
              "    })();\n",
              "  </script>\n",
              "</div>\n",
              "    </div>\n",
              "  </div>\n"
            ]
          },
          "metadata": {},
          "execution_count": 35
        }
      ]
    },
    {
      "cell_type": "code",
      "source": [
        "from sklearn.ensemble import RandomForestRegressor\n",
        "rf = RandomForestRegressor(random_state = 42)\n",
        "\n",
        "# Number of trees in random forest\n",
        "n_estimators = [50,100,150,200]\n",
        "# Number of features to consider at every split\n",
        "max_features = ['auto', 'sqrt']\n",
        "# Maximum number of levels in tree\n",
        "max_depth = [3,6,9]\n",
        "# Minimum number of samples required to split a node\n",
        "min_samples_split = [2, 5, 10]\n",
        "# Minimum number of samples required at each leaf node\n",
        "min_samples_leaf = [1, 2, 4]\n",
        "# Method of selecting samples for training each tree\n",
        "bootstrap = [True, False]\n",
        "# Create the random grid\n",
        "random_grid = {'n_estimators': n_estimators,\n",
        "               'max_features': max_features,\n",
        "               'max_depth': max_depth,\n",
        "               'min_samples_split': min_samples_split,\n",
        "               'min_samples_leaf': min_samples_leaf,\n",
        "               'bootstrap': bootstrap}"
      ],
      "metadata": {
        "id": "ksQUdpHKnc2M"
      },
      "execution_count": null,
      "outputs": []
    },
    {
      "cell_type": "code",
      "source": [
        "rf.fit(X_train,y_train)\n",
        "prediction = rf.predict(X_test)\n",
        "rf.score(X_test,y_test)"
      ],
      "metadata": {
        "colab": {
          "base_uri": "https://localhost:8080/"
        },
        "id": "AE3LysIpn7XK",
        "outputId": "7f794687-1b02-4a11-e6cf-fb890a06a710"
      },
      "execution_count": null,
      "outputs": [
        {
          "output_type": "execute_result",
          "data": {
            "text/plain": [
              "0.9044830724180272"
            ]
          },
          "metadata": {},
          "execution_count": 29
        }
      ]
    },
    {
      "cell_type": "code",
      "source": [
        "# Make predictions on the validation and test data\n",
        "#y_val_pred = rf_regressor.predict(X_val)\n",
        "#y_test_pred = rf_regressor.predict(X_test)\n",
        "\n",
        "# Evaluate the final model\n",
        "# mse_val = mean_squared_error(y_val, y_val_pred)\n",
        "# r2_val = r2_score(y_val, y_val_pred)\n",
        "\n",
        "mse_test = mean_squared_error(y_test, prediction)\n",
        "r2_test = r2_score(y_test, prediction)\n",
        "\n",
        "#print(f'Validation MSE: {mse_val}, R-squared: {r2_val}')\n",
        "print(f'Test MSE: {mse_test}, R-squared: {r2_test}')\n"
      ],
      "metadata": {
        "id": "pOEa7dxew-9f",
        "outputId": "212f2e8f-ae23-4a27-9be2-c6fee9e944b5",
        "colab": {
          "base_uri": "https://localhost:8080/"
        }
      },
      "execution_count": null,
      "outputs": [
        {
          "output_type": "stream",
          "name": "stdout",
          "text": [
            "Test MSE: 0.5056909868528482, R-squared: 0.9044830724180272\n"
          ]
        }
      ]
    },
    {
      "cell_type": "markdown",
      "source": [
        "#EXTRA"
      ],
      "metadata": {
        "id": "XDsNYoAFX2KH"
      }
    },
    {
      "cell_type": "markdown",
      "source": [
        "### **Feature Engineering**"
      ],
      "metadata": {
        "id": "Qg_scQaxYDYJ"
      }
    },
    {
      "cell_type": "markdown",
      "source": [
        "Create time-based features by extracting hour of the day, day of the week, month, or season from the timestamp."
      ],
      "metadata": {
        "id": "8DusJaVOvD9w"
      }
    },
    {
      "cell_type": "code",
      "source": [
        "# Assuming 'timestamp' is the timestamp column in your DataFrame\n",
        "df['hour_of_day'] = df['timestamp'].dt.hour\n",
        "df['day_of_week'] = df['timestamp'].dt.dayofweek\n",
        "df['month'] = df['timestamp'].dt.month\n",
        "# # Optionally, create a season feature based on months\n",
        "# df['season'] = df['month'].apply(lambda x: (x%12 + 3)//3)  # Spring, Summer, Fall, Winter\n"
      ],
      "metadata": {
        "id": "fx0UmkkhYCUI"
      },
      "execution_count": null,
      "outputs": []
    },
    {
      "cell_type": "code",
      "source": [
        "df.shape"
      ],
      "metadata": {
        "id": "xqFLBjaBxcjd"
      },
      "execution_count": null,
      "outputs": []
    },
    {
      "cell_type": "code",
      "source": [
        "df.head()"
      ],
      "metadata": {
        "id": "ZzOY87iBvne8"
      },
      "execution_count": null,
      "outputs": []
    },
    {
      "cell_type": "markdown",
      "source": [
        "**Aggregate Statistics**"
      ],
      "metadata": {
        "id": "eqfCKREr0y20"
      }
    },
    {
      "cell_type": "code",
      "source": [
        "# Calculate sumarry statistics for 'Motor_current' for each day\n",
        "df.groupby(df['timestamp'].dt.date)['Motor_current'].describe()\n",
        "\n",
        "# Optionally, you can calculate other statistics like median, min, or max in a similar way.\n"
      ],
      "metadata": {
        "id": "iSdwpzjKvzLD"
      },
      "execution_count": null,
      "outputs": []
    },
    {
      "cell_type": "code",
      "source": [
        "# Calculate data for how many days and month is given\n",
        "df['month'].unique()"
      ],
      "metadata": {
        "id": "cb12b__jy5wJ"
      },
      "execution_count": null,
      "outputs": []
    },
    {
      "cell_type": "markdown",
      "source": [
        "- Timestamp starting from 01-02-2020 to 01-09-2020\n",
        "- Number of months : 7 ; Feb, Mar, Apr, May, Jun, Jul, Aug and 1st of Sept\n",
        "- Total Days : 212 days"
      ],
      "metadata": {
        "id": "cMonBvmdzRSm"
      }
    },
    {
      "cell_type": "code",
      "source": [
        "# Rolling Staistics\n",
        "# Assuming you want to calculate a simple moving average over a window of size 3\n",
        "df['Motor_current'].rolling(window=3).mean()\n",
        "\n",
        "# Optionally, you can calculate other types of moving averages like exponential moving averages.\n"
      ],
      "metadata": {
        "id": "75lCJeN01IFj"
      },
      "execution_count": null,
      "outputs": []
    },
    {
      "cell_type": "code",
      "source": [
        "from sklearn.linear_model import LassoCV\n",
        "from sklearn.preprocessing import StandardScaler\n",
        "\n",
        "# Standardize the features (important for Lasso Regression)\n",
        "scaler = StandardScaler()\n",
        "X_train_scaled = scaler.fit_transform(X_train)\n",
        "X_val_scaled = scaler.transform(X_val)\n",
        "\n",
        "# Create a LassoCV model instance\n",
        "lasso_regressor = LassoCV(alphas=[0.001, 0.01, 0.1, 1.0, 10.0], cv=5)  # Adjust alphas as needed\n",
        "\n",
        "# Train the LassoCV model on the scaled training data\n",
        "lasso_regressor.fit(X_train_scaled, y_train)\n",
        "\n",
        "# Get the selected features based on non-zero coefficients\n",
        "selected_features = [feature for i, feature in enumerate(predictors) if lasso_regressor.coef_[i] != 0]\n",
        "\n",
        "# Make predictions on the validation data using the selected features\n",
        "y_val_pred = lasso_regressor.predict(X_val_scaled)\n",
        "\n",
        "# Evaluate the model\n",
        "mse_val = mean_squared_error(y_val, y_val_pred)\n",
        "r2_val = r2_score(y_val, y_val_pred)\n",
        "\n",
        "print(f'Validation MSE: {mse_val}, R-squared: {r2_val}')\n",
        "print(f'Selected Features: {selected_features}')\n"
      ],
      "metadata": {
        "id": "Np3IeG47i5Ml"
      },
      "execution_count": null,
      "outputs": []
    }
  ]
}