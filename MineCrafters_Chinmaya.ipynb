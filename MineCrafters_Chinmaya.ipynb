{
  "nbformat": 4,
  "nbformat_minor": 0,
  "metadata": {
    "colab": {
      "provenance": [],
      "authorship_tag": "ABX9TyMXU+4JcuFXfjuwsUhqdgW5",
      "include_colab_link": true
    },
    "kernelspec": {
      "name": "python3",
      "display_name": "Python 3"
    },
    "language_info": {
      "name": "python"
    }
  },
  "cells": [
    {
      "cell_type": "markdown",
      "metadata": {
        "id": "view-in-github",
        "colab_type": "text"
      },
      "source": [
        "<a href=\"https://colab.research.google.com/github/kashish1203/minecrafters/blob/Chinmaya/MineCrafters_Chinmaya.ipynb\" target=\"_parent\"><img src=\"https://colab.research.google.com/assets/colab-badge.svg\" alt=\"Open In Colab\"/></a>"
      ]
    },
    {
      "cell_type": "markdown",
      "source": [
        "**Course Project - 01: Data Preprocessing, EDA and Regression Analysis**"
      ],
      "metadata": {
        "id": "6cP3y5UfiY6E"
      }
    },
    {
      "cell_type": "markdown",
      "source": [
        "**Project Tasks**"
      ],
      "metadata": {
        "id": "ki5akscfijD6"
      }
    },
    {
      "cell_type": "markdown",
      "source": [
        "## **Exploratory Data Analysis (EDA) & Preprocessing:**\n",
        "\n",
        "T1. Explore the dataset assigned to your team and provide:"
      ],
      "metadata": {
        "id": "sCfd8LE2i7pw"
      }
    },
    {
      "cell_type": "markdown",
      "source": [
        "\n",
        "### a. A summary of the dataset (should include information columns present, attribute types, null values, and a summary of each attribute)."
      ],
      "metadata": {
        "id": "ujtlixgLjFWN"
      }
    },
    {
      "cell_type": "markdown",
      "source": [
        "**Data Source:** The data is collected from analogue and digital sensors installed on the APU(Air Processing Unit) of a metro train's compressor. These sensors monitor different aspects of the compressor's operation.\n",
        "\n",
        "**Sensors:** The dataset includes readings from the following sensors:\n",
        "\n",
        "- **Pressure Sensor:**Monitors pressure levels within the APU.\n",
        "- **Temperature Sensor:** Measures the temperature of the APU.\n",
        "- **Motor Current Sensor:** Records the electrical current consumed by the compressor's motor.\n",
        "- **Air Intake Valve Sensor:** Monitors the status or position of the air intake valve.\n"
      ],
      "metadata": {
        "id": "B_a1niGsj8jK"
      }
    },
    {
      "cell_type": "markdown",
      "source": [
        "**What is APU?**\\\n",
        "-- An APU, or Air Processing Unit, in the context of a metro train's compressor, refers to a component that plays a crucial role in providing clean and conditioned air for various systems within the train. The APU is responsible for filtering, cooling, and sometimes heating the air before it is distributed to different parts of the train, ensuring a comfortable and safe environment for passengers and crew."
      ],
      "metadata": {
        "id": "7-pk-IY8kMcq"
      }
    },
    {
      "cell_type": "code",
      "source": [
        "#Importing Required Libraries\n",
        "import pandas as pd\n",
        "import numpy as np"
      ],
      "metadata": {
        "id": "wjkRJqrhjE5g"
      },
      "execution_count": 1,
      "outputs": []
    },
    {
      "cell_type": "code",
      "source": [
        "# Mounting Google drive to fetch dataset\n",
        "from google.colab import drive\n",
        "drive.mount('/content/drive')"
      ],
      "metadata": {
        "colab": {
          "base_uri": "https://localhost:8080/"
        },
        "id": "As5nQ3X9kcUX",
        "outputId": "be97cc52-c196-4166-fc68-4eb38f39a557"
      },
      "execution_count": 2,
      "outputs": [
        {
          "output_type": "stream",
          "name": "stdout",
          "text": [
            "Mounted at /content/drive\n"
          ]
        }
      ]
    },
    {
      "cell_type": "code",
      "source": [
        "# Loading the dataset\n",
        "df = pd.read_csv('/content/drive/MyDrive/MetroPT3(AirCompressor).csv')"
      ],
      "metadata": {
        "id": "Bpr-k-6Mkqt7"
      },
      "execution_count": 3,
      "outputs": []
    },
    {
      "cell_type": "code",
      "source": [
        "# Getting first five instances of dataset\n",
        "df.head(5)"
      ],
      "metadata": {
        "colab": {
          "base_uri": "https://localhost:8080/",
          "height": 310
        },
        "id": "lrAo33MskzUh",
        "outputId": "f396845c-d532-4cbb-ac22-c96dd71d97c5"
      },
      "execution_count": 4,
      "outputs": [
        {
          "output_type": "execute_result",
          "data": {
            "text/plain": [
              "   Unnamed: 0            timestamp    TP2    TP3     H1  DV_pressure  \\\n",
              "0           0  2020-02-01 00:00:00 -0.012  9.358  9.340       -0.024   \n",
              "1          10  2020-02-01 00:00:10 -0.014  9.348  9.332       -0.022   \n",
              "2          20  2020-02-01 00:00:19 -0.012  9.338  9.322       -0.022   \n",
              "3          30  2020-02-01 00:00:29 -0.012  9.328  9.312       -0.022   \n",
              "4          40  2020-02-01 00:00:39 -0.012  9.318  9.302       -0.022   \n",
              "\n",
              "   Reservoirs  Oil_temperature  Motor_current  COMP  DV_eletric  Towers  MPG  \\\n",
              "0       9.358           53.600         0.0400   1.0         0.0     1.0  1.0   \n",
              "1       9.348           53.675         0.0400   1.0         0.0     1.0  1.0   \n",
              "2       9.338           53.600         0.0425   1.0         0.0     1.0  1.0   \n",
              "3       9.328           53.425         0.0400   1.0         0.0     1.0  1.0   \n",
              "4       9.318           53.475         0.0400   1.0         0.0     1.0  1.0   \n",
              "\n",
              "   LPS  Pressure_switch  Oil_level  Caudal_impulses  \n",
              "0  0.0              1.0        1.0              1.0  \n",
              "1  0.0              1.0        1.0              1.0  \n",
              "2  0.0              1.0        1.0              1.0  \n",
              "3  0.0              1.0        1.0              1.0  \n",
              "4  0.0              1.0        1.0              1.0  "
            ],
            "text/html": [
              "\n",
              "  <div id=\"df-51687fc8-3f29-458b-85af-95ae49d1bc63\" class=\"colab-df-container\">\n",
              "    <div>\n",
              "<style scoped>\n",
              "    .dataframe tbody tr th:only-of-type {\n",
              "        vertical-align: middle;\n",
              "    }\n",
              "\n",
              "    .dataframe tbody tr th {\n",
              "        vertical-align: top;\n",
              "    }\n",
              "\n",
              "    .dataframe thead th {\n",
              "        text-align: right;\n",
              "    }\n",
              "</style>\n",
              "<table border=\"1\" class=\"dataframe\">\n",
              "  <thead>\n",
              "    <tr style=\"text-align: right;\">\n",
              "      <th></th>\n",
              "      <th>Unnamed: 0</th>\n",
              "      <th>timestamp</th>\n",
              "      <th>TP2</th>\n",
              "      <th>TP3</th>\n",
              "      <th>H1</th>\n",
              "      <th>DV_pressure</th>\n",
              "      <th>Reservoirs</th>\n",
              "      <th>Oil_temperature</th>\n",
              "      <th>Motor_current</th>\n",
              "      <th>COMP</th>\n",
              "      <th>DV_eletric</th>\n",
              "      <th>Towers</th>\n",
              "      <th>MPG</th>\n",
              "      <th>LPS</th>\n",
              "      <th>Pressure_switch</th>\n",
              "      <th>Oil_level</th>\n",
              "      <th>Caudal_impulses</th>\n",
              "    </tr>\n",
              "  </thead>\n",
              "  <tbody>\n",
              "    <tr>\n",
              "      <th>0</th>\n",
              "      <td>0</td>\n",
              "      <td>2020-02-01 00:00:00</td>\n",
              "      <td>-0.012</td>\n",
              "      <td>9.358</td>\n",
              "      <td>9.340</td>\n",
              "      <td>-0.024</td>\n",
              "      <td>9.358</td>\n",
              "      <td>53.600</td>\n",
              "      <td>0.0400</td>\n",
              "      <td>1.0</td>\n",
              "      <td>0.0</td>\n",
              "      <td>1.0</td>\n",
              "      <td>1.0</td>\n",
              "      <td>0.0</td>\n",
              "      <td>1.0</td>\n",
              "      <td>1.0</td>\n",
              "      <td>1.0</td>\n",
              "    </tr>\n",
              "    <tr>\n",
              "      <th>1</th>\n",
              "      <td>10</td>\n",
              "      <td>2020-02-01 00:00:10</td>\n",
              "      <td>-0.014</td>\n",
              "      <td>9.348</td>\n",
              "      <td>9.332</td>\n",
              "      <td>-0.022</td>\n",
              "      <td>9.348</td>\n",
              "      <td>53.675</td>\n",
              "      <td>0.0400</td>\n",
              "      <td>1.0</td>\n",
              "      <td>0.0</td>\n",
              "      <td>1.0</td>\n",
              "      <td>1.0</td>\n",
              "      <td>0.0</td>\n",
              "      <td>1.0</td>\n",
              "      <td>1.0</td>\n",
              "      <td>1.0</td>\n",
              "    </tr>\n",
              "    <tr>\n",
              "      <th>2</th>\n",
              "      <td>20</td>\n",
              "      <td>2020-02-01 00:00:19</td>\n",
              "      <td>-0.012</td>\n",
              "      <td>9.338</td>\n",
              "      <td>9.322</td>\n",
              "      <td>-0.022</td>\n",
              "      <td>9.338</td>\n",
              "      <td>53.600</td>\n",
              "      <td>0.0425</td>\n",
              "      <td>1.0</td>\n",
              "      <td>0.0</td>\n",
              "      <td>1.0</td>\n",
              "      <td>1.0</td>\n",
              "      <td>0.0</td>\n",
              "      <td>1.0</td>\n",
              "      <td>1.0</td>\n",
              "      <td>1.0</td>\n",
              "    </tr>\n",
              "    <tr>\n",
              "      <th>3</th>\n",
              "      <td>30</td>\n",
              "      <td>2020-02-01 00:00:29</td>\n",
              "      <td>-0.012</td>\n",
              "      <td>9.328</td>\n",
              "      <td>9.312</td>\n",
              "      <td>-0.022</td>\n",
              "      <td>9.328</td>\n",
              "      <td>53.425</td>\n",
              "      <td>0.0400</td>\n",
              "      <td>1.0</td>\n",
              "      <td>0.0</td>\n",
              "      <td>1.0</td>\n",
              "      <td>1.0</td>\n",
              "      <td>0.0</td>\n",
              "      <td>1.0</td>\n",
              "      <td>1.0</td>\n",
              "      <td>1.0</td>\n",
              "    </tr>\n",
              "    <tr>\n",
              "      <th>4</th>\n",
              "      <td>40</td>\n",
              "      <td>2020-02-01 00:00:39</td>\n",
              "      <td>-0.012</td>\n",
              "      <td>9.318</td>\n",
              "      <td>9.302</td>\n",
              "      <td>-0.022</td>\n",
              "      <td>9.318</td>\n",
              "      <td>53.475</td>\n",
              "      <td>0.0400</td>\n",
              "      <td>1.0</td>\n",
              "      <td>0.0</td>\n",
              "      <td>1.0</td>\n",
              "      <td>1.0</td>\n",
              "      <td>0.0</td>\n",
              "      <td>1.0</td>\n",
              "      <td>1.0</td>\n",
              "      <td>1.0</td>\n",
              "    </tr>\n",
              "  </tbody>\n",
              "</table>\n",
              "</div>\n",
              "    <div class=\"colab-df-buttons\">\n",
              "\n",
              "  <div class=\"colab-df-container\">\n",
              "    <button class=\"colab-df-convert\" onclick=\"convertToInteractive('df-51687fc8-3f29-458b-85af-95ae49d1bc63')\"\n",
              "            title=\"Convert this dataframe to an interactive table.\"\n",
              "            style=\"display:none;\">\n",
              "\n",
              "  <svg xmlns=\"http://www.w3.org/2000/svg\" height=\"24px\" viewBox=\"0 -960 960 960\">\n",
              "    <path d=\"M120-120v-720h720v720H120Zm60-500h600v-160H180v160Zm220 220h160v-160H400v160Zm0 220h160v-160H400v160ZM180-400h160v-160H180v160Zm440 0h160v-160H620v160ZM180-180h160v-160H180v160Zm440 0h160v-160H620v160Z\"/>\n",
              "  </svg>\n",
              "    </button>\n",
              "\n",
              "  <style>\n",
              "    .colab-df-container {\n",
              "      display:flex;\n",
              "      gap: 12px;\n",
              "    }\n",
              "\n",
              "    .colab-df-convert {\n",
              "      background-color: #E8F0FE;\n",
              "      border: none;\n",
              "      border-radius: 50%;\n",
              "      cursor: pointer;\n",
              "      display: none;\n",
              "      fill: #1967D2;\n",
              "      height: 32px;\n",
              "      padding: 0 0 0 0;\n",
              "      width: 32px;\n",
              "    }\n",
              "\n",
              "    .colab-df-convert:hover {\n",
              "      background-color: #E2EBFA;\n",
              "      box-shadow: 0px 1px 2px rgba(60, 64, 67, 0.3), 0px 1px 3px 1px rgba(60, 64, 67, 0.15);\n",
              "      fill: #174EA6;\n",
              "    }\n",
              "\n",
              "    .colab-df-buttons div {\n",
              "      margin-bottom: 4px;\n",
              "    }\n",
              "\n",
              "    [theme=dark] .colab-df-convert {\n",
              "      background-color: #3B4455;\n",
              "      fill: #D2E3FC;\n",
              "    }\n",
              "\n",
              "    [theme=dark] .colab-df-convert:hover {\n",
              "      background-color: #434B5C;\n",
              "      box-shadow: 0px 1px 3px 1px rgba(0, 0, 0, 0.15);\n",
              "      filter: drop-shadow(0px 1px 2px rgba(0, 0, 0, 0.3));\n",
              "      fill: #FFFFFF;\n",
              "    }\n",
              "  </style>\n",
              "\n",
              "    <script>\n",
              "      const buttonEl =\n",
              "        document.querySelector('#df-51687fc8-3f29-458b-85af-95ae49d1bc63 button.colab-df-convert');\n",
              "      buttonEl.style.display =\n",
              "        google.colab.kernel.accessAllowed ? 'block' : 'none';\n",
              "\n",
              "      async function convertToInteractive(key) {\n",
              "        const element = document.querySelector('#df-51687fc8-3f29-458b-85af-95ae49d1bc63');\n",
              "        const dataTable =\n",
              "          await google.colab.kernel.invokeFunction('convertToInteractive',\n",
              "                                                    [key], {});\n",
              "        if (!dataTable) return;\n",
              "\n",
              "        const docLinkHtml = 'Like what you see? Visit the ' +\n",
              "          '<a target=\"_blank\" href=https://colab.research.google.com/notebooks/data_table.ipynb>data table notebook</a>'\n",
              "          + ' to learn more about interactive tables.';\n",
              "        element.innerHTML = '';\n",
              "        dataTable['output_type'] = 'display_data';\n",
              "        await google.colab.output.renderOutput(dataTable, element);\n",
              "        const docLink = document.createElement('div');\n",
              "        docLink.innerHTML = docLinkHtml;\n",
              "        element.appendChild(docLink);\n",
              "      }\n",
              "    </script>\n",
              "  </div>\n",
              "\n",
              "\n",
              "<div id=\"df-0d65ffb1-ac14-4478-b28f-e812e916ead4\">\n",
              "  <button class=\"colab-df-quickchart\" onclick=\"quickchart('df-0d65ffb1-ac14-4478-b28f-e812e916ead4')\"\n",
              "            title=\"Suggest charts.\"\n",
              "            style=\"display:none;\">\n",
              "\n",
              "<svg xmlns=\"http://www.w3.org/2000/svg\" height=\"24px\"viewBox=\"0 0 24 24\"\n",
              "     width=\"24px\">\n",
              "    <g>\n",
              "        <path d=\"M19 3H5c-1.1 0-2 .9-2 2v14c0 1.1.9 2 2 2h14c1.1 0 2-.9 2-2V5c0-1.1-.9-2-2-2zM9 17H7v-7h2v7zm4 0h-2V7h2v10zm4 0h-2v-4h2v4z\"/>\n",
              "    </g>\n",
              "</svg>\n",
              "  </button>\n",
              "\n",
              "<style>\n",
              "  .colab-df-quickchart {\n",
              "      --bg-color: #E8F0FE;\n",
              "      --fill-color: #1967D2;\n",
              "      --hover-bg-color: #E2EBFA;\n",
              "      --hover-fill-color: #174EA6;\n",
              "      --disabled-fill-color: #AAA;\n",
              "      --disabled-bg-color: #DDD;\n",
              "  }\n",
              "\n",
              "  [theme=dark] .colab-df-quickchart {\n",
              "      --bg-color: #3B4455;\n",
              "      --fill-color: #D2E3FC;\n",
              "      --hover-bg-color: #434B5C;\n",
              "      --hover-fill-color: #FFFFFF;\n",
              "      --disabled-bg-color: #3B4455;\n",
              "      --disabled-fill-color: #666;\n",
              "  }\n",
              "\n",
              "  .colab-df-quickchart {\n",
              "    background-color: var(--bg-color);\n",
              "    border: none;\n",
              "    border-radius: 50%;\n",
              "    cursor: pointer;\n",
              "    display: none;\n",
              "    fill: var(--fill-color);\n",
              "    height: 32px;\n",
              "    padding: 0;\n",
              "    width: 32px;\n",
              "  }\n",
              "\n",
              "  .colab-df-quickchart:hover {\n",
              "    background-color: var(--hover-bg-color);\n",
              "    box-shadow: 0 1px 2px rgba(60, 64, 67, 0.3), 0 1px 3px 1px rgba(60, 64, 67, 0.15);\n",
              "    fill: var(--button-hover-fill-color);\n",
              "  }\n",
              "\n",
              "  .colab-df-quickchart-complete:disabled,\n",
              "  .colab-df-quickchart-complete:disabled:hover {\n",
              "    background-color: var(--disabled-bg-color);\n",
              "    fill: var(--disabled-fill-color);\n",
              "    box-shadow: none;\n",
              "  }\n",
              "\n",
              "  .colab-df-spinner {\n",
              "    border: 2px solid var(--fill-color);\n",
              "    border-color: transparent;\n",
              "    border-bottom-color: var(--fill-color);\n",
              "    animation:\n",
              "      spin 1s steps(1) infinite;\n",
              "  }\n",
              "\n",
              "  @keyframes spin {\n",
              "    0% {\n",
              "      border-color: transparent;\n",
              "      border-bottom-color: var(--fill-color);\n",
              "      border-left-color: var(--fill-color);\n",
              "    }\n",
              "    20% {\n",
              "      border-color: transparent;\n",
              "      border-left-color: var(--fill-color);\n",
              "      border-top-color: var(--fill-color);\n",
              "    }\n",
              "    30% {\n",
              "      border-color: transparent;\n",
              "      border-left-color: var(--fill-color);\n",
              "      border-top-color: var(--fill-color);\n",
              "      border-right-color: var(--fill-color);\n",
              "    }\n",
              "    40% {\n",
              "      border-color: transparent;\n",
              "      border-right-color: var(--fill-color);\n",
              "      border-top-color: var(--fill-color);\n",
              "    }\n",
              "    60% {\n",
              "      border-color: transparent;\n",
              "      border-right-color: var(--fill-color);\n",
              "    }\n",
              "    80% {\n",
              "      border-color: transparent;\n",
              "      border-right-color: var(--fill-color);\n",
              "      border-bottom-color: var(--fill-color);\n",
              "    }\n",
              "    90% {\n",
              "      border-color: transparent;\n",
              "      border-bottom-color: var(--fill-color);\n",
              "    }\n",
              "  }\n",
              "</style>\n",
              "\n",
              "  <script>\n",
              "    async function quickchart(key) {\n",
              "      const quickchartButtonEl =\n",
              "        document.querySelector('#' + key + ' button');\n",
              "      quickchartButtonEl.disabled = true;  // To prevent multiple clicks.\n",
              "      quickchartButtonEl.classList.add('colab-df-spinner');\n",
              "      try {\n",
              "        const charts = await google.colab.kernel.invokeFunction(\n",
              "            'suggestCharts', [key], {});\n",
              "      } catch (error) {\n",
              "        console.error('Error during call to suggestCharts:', error);\n",
              "      }\n",
              "      quickchartButtonEl.classList.remove('colab-df-spinner');\n",
              "      quickchartButtonEl.classList.add('colab-df-quickchart-complete');\n",
              "    }\n",
              "    (() => {\n",
              "      let quickchartButtonEl =\n",
              "        document.querySelector('#df-0d65ffb1-ac14-4478-b28f-e812e916ead4 button');\n",
              "      quickchartButtonEl.style.display =\n",
              "        google.colab.kernel.accessAllowed ? 'block' : 'none';\n",
              "    })();\n",
              "  </script>\n",
              "</div>\n",
              "    </div>\n",
              "  </div>\n"
            ]
          },
          "metadata": {},
          "execution_count": 4
        }
      ]
    },
    {
      "cell_type": "code",
      "source": [
        "# Getting the shape of dataset\n",
        "df.shape"
      ],
      "metadata": {
        "colab": {
          "base_uri": "https://localhost:8080/"
        },
        "id": "s-LbfiuBlJQj",
        "outputId": "5281d34c-231d-4a61-facd-29f848c8e708"
      },
      "execution_count": 5,
      "outputs": [
        {
          "output_type": "execute_result",
          "data": {
            "text/plain": [
              "(1516948, 17)"
            ]
          },
          "metadata": {},
          "execution_count": 5
        }
      ]
    },
    {
      "cell_type": "code",
      "source": [
        "# Getting the names of columns present in the dataset\n",
        "df.columns"
      ],
      "metadata": {
        "colab": {
          "base_uri": "https://localhost:8080/"
        },
        "id": "GudPrYUklQlb",
        "outputId": "dfdcdd6a-2945-40d1-8372-eae724a35d14"
      },
      "execution_count": 6,
      "outputs": [
        {
          "output_type": "execute_result",
          "data": {
            "text/plain": [
              "Index(['Unnamed: 0', 'timestamp', 'TP2', 'TP3', 'H1', 'DV_pressure',\n",
              "       'Reservoirs', 'Oil_temperature', 'Motor_current', 'COMP', 'DV_eletric',\n",
              "       'Towers', 'MPG', 'LPS', 'Pressure_switch', 'Oil_level',\n",
              "       'Caudal_impulses'],\n",
              "      dtype='object')"
            ]
          },
          "metadata": {},
          "execution_count": 6
        }
      ]
    },
    {
      "cell_type": "code",
      "source": [
        "# Getting column/attribute type\n",
        "df.dtypes"
      ],
      "metadata": {
        "colab": {
          "base_uri": "https://localhost:8080/"
        },
        "id": "WDkSOqyJlbgz",
        "outputId": "bde7679c-fe2b-4ccc-8d33-7c67348617d8"
      },
      "execution_count": 7,
      "outputs": [
        {
          "output_type": "execute_result",
          "data": {
            "text/plain": [
              "Unnamed: 0           int64\n",
              "timestamp           object\n",
              "TP2                float64\n",
              "TP3                float64\n",
              "H1                 float64\n",
              "DV_pressure        float64\n",
              "Reservoirs         float64\n",
              "Oil_temperature    float64\n",
              "Motor_current      float64\n",
              "COMP               float64\n",
              "DV_eletric         float64\n",
              "Towers             float64\n",
              "MPG                float64\n",
              "LPS                float64\n",
              "Pressure_switch    float64\n",
              "Oil_level          float64\n",
              "Caudal_impulses    float64\n",
              "dtype: object"
            ]
          },
          "metadata": {},
          "execution_count": 7
        }
      ]
    },
    {
      "cell_type": "markdown",
      "source": [
        "Only one categorical variable \"timestamp\" and rest are numerical variables/attributes.\\\n",
        "**No need for Encoding**"
      ],
      "metadata": {
        "id": "EPrfLUxmls5f"
      }
    },
    {
      "cell_type": "markdown",
      "source": [
        "### Pre-Processing\n"
      ],
      "metadata": {
        "id": "OhCL5NeFmYoX"
      }
    },
    {
      "cell_type": "code",
      "source": [
        "# Checking null values\n",
        "df.isnull().sum()"
      ],
      "metadata": {
        "colab": {
          "base_uri": "https://localhost:8080/"
        },
        "id": "T7iyDlIVl0QI",
        "outputId": "f8d1a6cf-0001-4ace-ddb1-42206352b459"
      },
      "execution_count": 8,
      "outputs": [
        {
          "output_type": "execute_result",
          "data": {
            "text/plain": [
              "Unnamed: 0         0\n",
              "timestamp          0\n",
              "TP2                0\n",
              "TP3                0\n",
              "H1                 0\n",
              "DV_pressure        0\n",
              "Reservoirs         0\n",
              "Oil_temperature    0\n",
              "Motor_current      0\n",
              "COMP               0\n",
              "DV_eletric         0\n",
              "Towers             0\n",
              "MPG                0\n",
              "LPS                0\n",
              "Pressure_switch    0\n",
              "Oil_level          0\n",
              "Caudal_impulses    0\n",
              "dtype: int64"
            ]
          },
          "metadata": {},
          "execution_count": 8
        }
      ]
    },
    {
      "cell_type": "markdown",
      "source": [
        "**No null values are present.**"
      ],
      "metadata": {
        "id": "-C3KsZL5l6nV"
      }
    },
    {
      "cell_type": "code",
      "source": [
        "#Checking duplicate rows\n",
        "df.duplicated().sum()"
      ],
      "metadata": {
        "colab": {
          "base_uri": "https://localhost:8080/"
        },
        "id": "bYNjrf_4meqX",
        "outputId": "92a1ac36-c81a-4696-d502-172ce0a61670"
      },
      "execution_count": 9,
      "outputs": [
        {
          "output_type": "execute_result",
          "data": {
            "text/plain": [
              "0"
            ]
          },
          "metadata": {},
          "execution_count": 9
        }
      ]
    },
    {
      "cell_type": "markdown",
      "source": [
        "**No Duplicate Instances are present.**"
      ],
      "metadata": {
        "id": "1DvkgmPEmkQQ"
      }
    },
    {
      "cell_type": "code",
      "source": [
        "# Dropping Unnecessary columns\n",
        "df.drop(['Unnamed: 0'], axis=1, inplace=True)"
      ],
      "metadata": {
        "id": "P6CpEWC3mit9"
      },
      "execution_count": 14,
      "outputs": []
    },
    {
      "cell_type": "code",
      "source": [
        "# Converting timestamp to datetime format for time-series analysis\n",
        "df['timestamp'] = pd.to_datetime(df['timestamp'])"
      ],
      "metadata": {
        "id": "8C9FidwNmwLl"
      },
      "execution_count": 12,
      "outputs": []
    },
    {
      "cell_type": "code",
      "source": [
        "df['timestamp']"
      ],
      "metadata": {
        "colab": {
          "base_uri": "https://localhost:8080/"
        },
        "id": "sdG6_ONnmxrv",
        "outputId": "809558bd-10ab-4ba4-e200-3b79905adef0"
      },
      "execution_count": 13,
      "outputs": [
        {
          "output_type": "execute_result",
          "data": {
            "text/plain": [
              "0         2020-02-01 00:00:00\n",
              "1         2020-02-01 00:00:10\n",
              "2         2020-02-01 00:00:19\n",
              "3         2020-02-01 00:00:29\n",
              "4         2020-02-01 00:00:39\n",
              "                  ...        \n",
              "1516943   2020-09-01 03:59:10\n",
              "1516944   2020-09-01 03:59:20\n",
              "1516945   2020-09-01 03:59:30\n",
              "1516946   2020-09-01 03:59:40\n",
              "1516947   2020-09-01 03:59:50\n",
              "Name: timestamp, Length: 1516948, dtype: datetime64[ns]"
            ]
          },
          "metadata": {},
          "execution_count": 13
        }
      ]
    },
    {
      "cell_type": "code",
      "source": [
        "# Getting number unique values for each column\n",
        "df.nunique()"
      ],
      "metadata": {
        "colab": {
          "base_uri": "https://localhost:8080/"
        },
        "id": "GDsM8eQOneFx",
        "outputId": "e09dda6e-652c-4b0c-f44e-adf69d921324"
      },
      "execution_count": 16,
      "outputs": [
        {
          "output_type": "execute_result",
          "data": {
            "text/plain": [
              "timestamp          1516948\n",
              "TP2                   5257\n",
              "TP3                   3683\n",
              "H1                    2665\n",
              "DV_pressure           2257\n",
              "Reservoirs            3682\n",
              "Oil_temperature       2462\n",
              "Motor_current         1809\n",
              "COMP                     2\n",
              "DV_eletric               2\n",
              "Towers                   2\n",
              "MPG                      2\n",
              "LPS                      2\n",
              "Pressure_switch          2\n",
              "Oil_level                2\n",
              "Caudal_impulses          2\n",
              "dtype: int64"
            ]
          },
          "metadata": {},
          "execution_count": 16
        }
      ]
    },
    {
      "cell_type": "markdown",
      "source": [
        "**Observation**\n",
        "- some columns may be nominal/ordinal type since only two unique values for them.\n"
      ],
      "metadata": {
        "id": "CqL2g4ycnrL0"
      }
    },
    {
      "cell_type": "code",
      "source": [
        "cnt= df['TP2'].dtypes\n",
        "cnt"
      ],
      "metadata": {
        "colab": {
          "base_uri": "https://localhost:8080/"
        },
        "id": "J9KX0xl1o8UX",
        "outputId": "c26ee5ec-2c85-4737-dde0-5082ef04a2d6"
      },
      "execution_count": 23,
      "outputs": [
        {
          "output_type": "execute_result",
          "data": {
            "text/plain": [
              "dtype('float64')"
            ]
          },
          "metadata": {},
          "execution_count": 23
        }
      ]
    },
    {
      "cell_type": "code",
      "source": [
        "# Getting categorical columns which are already encoded\n",
        "cat_cols = []\n",
        "num_cols = []\n",
        "col = df.columns\n",
        "for i in col:\n",
        "  cnt = df[i].nunique()\n",
        "  if df[i].dtypes != 'datetime64[ns]':\n",
        "    if cnt <= 2 :\n",
        "      val = sorted(df[i].unique())\n",
        "      print(f'unique values for {i}: {val}')\n",
        "      print(f'value counts {i}: {cnt}\\n')\n",
        "      cat_cols.append(i)\n",
        "    else:\n",
        "      num_cols.append(i)\n"
      ],
      "metadata": {
        "colab": {
          "base_uri": "https://localhost:8080/"
        },
        "id": "LbDbcMgWoEgK",
        "outputId": "7d0333c0-b69e-4b9a-ed0f-391789e6ef7c"
      },
      "execution_count": 24,
      "outputs": [
        {
          "output_type": "stream",
          "name": "stdout",
          "text": [
            "unique values for COMP: [0.0, 1.0]\n",
            "value counts COMP: 2\n",
            "\n",
            "unique values for DV_eletric: [0.0, 1.0]\n",
            "value counts DV_eletric: 2\n",
            "\n",
            "unique values for Towers: [0.0, 1.0]\n",
            "value counts Towers: 2\n",
            "\n",
            "unique values for MPG: [0.0, 1.0]\n",
            "value counts MPG: 2\n",
            "\n",
            "unique values for LPS: [0.0, 1.0]\n",
            "value counts LPS: 2\n",
            "\n",
            "unique values for Pressure_switch: [0.0, 1.0]\n",
            "value counts Pressure_switch: 2\n",
            "\n",
            "unique values for Oil_level: [0.0, 1.0]\n",
            "value counts Oil_level: 2\n",
            "\n",
            "unique values for Caudal_impulses: [0.0, 1.0]\n",
            "value counts Caudal_impulses: 2\n",
            "\n"
          ]
        }
      ]
    },
    {
      "cell_type": "code",
      "source": [
        "# Categorical columns\n",
        "cat_cols"
      ],
      "metadata": {
        "colab": {
          "base_uri": "https://localhost:8080/"
        },
        "id": "KwK_OIpbnpXB",
        "outputId": "1c416879-cf02-4cdd-ffbe-c608b0c5e9f6"
      },
      "execution_count": 22,
      "outputs": [
        {
          "output_type": "execute_result",
          "data": {
            "text/plain": [
              "['COMP',\n",
              " 'DV_eletric',\n",
              " 'Towers',\n",
              " 'MPG',\n",
              " 'LPS',\n",
              " 'Pressure_switch',\n",
              " 'Oil_level',\n",
              " 'Caudal_impulses']"
            ]
          },
          "metadata": {},
          "execution_count": 22
        }
      ]
    },
    {
      "cell_type": "code",
      "source": [
        "# Numerical columns\n",
        "num_cols"
      ],
      "metadata": {
        "colab": {
          "base_uri": "https://localhost:8080/"
        },
        "id": "P0UKkgZpqisL",
        "outputId": "7192ca9b-c7d6-4d8b-b843-333c58b1f694"
      },
      "execution_count": 25,
      "outputs": [
        {
          "output_type": "execute_result",
          "data": {
            "text/plain": [
              "['TP2',\n",
              " 'TP3',\n",
              " 'H1',\n",
              " 'DV_pressure',\n",
              " 'Reservoirs',\n",
              " 'Oil_temperature',\n",
              " 'Motor_current']"
            ]
          },
          "metadata": {},
          "execution_count": 25
        }
      ]
    },
    {
      "cell_type": "markdown",
      "source": [
        "- 'TP2', 'TP3', 'H1', 'DV_pressure', 'Reservoirs', 'Oil_temperature', 'Motor_current' are quantitative variables.\n",
        "- 'COMP', 'DV_eletric', 'Towers', 'MPG', 'LPS', 'Pressure_switch', 'Oil_level', 'Caudal_impulses' are qualitative variables. Moreover, these variables are binary in nature."
      ],
      "metadata": {
        "id": "Xr1CnZ3Ip4rl"
      }
    },
    {
      "cell_type": "markdown",
      "source": [
        "**Description of Attributes:**\\\n",
        "(researched plus taken from assigned dataset description)\\\n",
        "Attributes in the dataset:\n",
        "1. **Unnamed: 0:** An unnamed index or identifier for each record in the dataset.\n",
        "2. **timestamp:** The timestamp indicating the time at which the readings were recorded.\n",
        "3. **TP2:** Reading from the Pressure sensor, TP2 measures the pressure on the compressor.\n",
        "4. **TP3:** Reading from the Pressure sensor, TP3 measure the pressure generated at the pneumatic panel.\n",
        "5. **H1:** Reading from the Pressure sensor, H1 measure the pressure generated due to pressure drop when the discharge of the cyclonic\n",
        "separator filter occurs.\n",
        "6. **DV_pressure:** Reading from the Pressure sensor, which measure the pressure drop generated when the towers discharge air dryers; a zero\n",
        "reading indicates that the compressor is operating under load.\n",
        "7. **Reservoirs:** Reading related to reservoirs which has the measure of the downstream pressure of the reservoirs, which should be close to the\n",
        "pneumatic panel pressure (TP3).\n",
        "8. **Oil_temperature:** Reading of oil temperature on the compressor.\n",
        "9. **Motor_current:** Reading of motor current which has the measure of the current of one phase of the three-phase motor;\\\n",
        "it presents values close to\n",
        "  - 0A - when it turns off,\n",
        "  - 4A - when working offloaded,\n",
        "  - 7A - when working under load and\n",
        "  - 9A - when it starts working.\n",
        "10. **COMP:** Reading related to the electrical signal of the air intake valve on the compressor.\n",
        "  - it is active when there is no air intake,\n",
        "indicating that the compressor is either turned off or operating in an offloaded state.\n",
        "11. **DV_eletric:** Reading related to electrical signal that controls the compressor outlet valve.\n",
        "  - it is active when the compressor is functioning under load\n",
        "  - inactive when the compressor is either off or operating in an offloaded state.\n",
        "12. **Towers:** Reading related to the electrical signal that defines the tower responsible for drying the air and the tower responsible\n",
        "for draining the humidity removed from the air.\n",
        "  - when not active, it indicates that tower one is functioning\n",
        "  - when active, it indicates that tower two is in operation.\n",
        "13. **MPG:** Reading related to MPG (miles per gallon).\\\n",
        "It measures the electrical signal responsible for starting the compressor under load by activating the intake valve\n",
        "when the pressure in the air production unit (APU) falls below 8.2 bar;\\\n",
        "It activates the COMP sensor, which assumes\n",
        "the same behaviour as the MPG sensor.\n",
        "14. **LPS:** Reading of LPS (low pressure system) which measures the electrical signal that detects and activates when the pressure drops below 7 bars.\n",
        "15. **Pressure_switch:** Reading from the pressure switch which measures the electrical signal that detects the discharge in the air-drying towers.\n",
        "16. **Oil_level:** It measures the electrical signal that detects the oil level on the compressor\\\n",
        "It is active when the oil is below the\n",
        "expected values.\n",
        "17. **Caudal_impulses:** the electrical signal that counts the pulse outputs generated by the absolute amount of air\n",
        "flowing from the APU to the reservoirs.\n",
        "\n",
        "\n"
      ],
      "metadata": {
        "id": "dnbkTLEVKUbF"
      }
    },
    {
      "cell_type": "markdown",
      "source": [
        "### b. Data Visualization, summarizing insights about the dataset through EDA."
      ],
      "metadata": {
        "id": "lUMYPBXIjOCf"
      }
    },
    {
      "cell_type": "code",
      "source": [],
      "metadata": {
        "id": "--etdF2mjrxt"
      },
      "execution_count": null,
      "outputs": []
    },
    {
      "cell_type": "markdown",
      "source": [
        "## **Regression Analysis:**"
      ],
      "metadata": {
        "id": "4JzDwaT4jR8M"
      }
    },
    {
      "cell_type": "markdown",
      "source": [
        "### T2. Identify and list regression problems on your assigned dataset. Which one does seem the most interesting to you and why?"
      ],
      "metadata": {
        "id": "jv5Os9TsjWbB"
      }
    },
    {
      "cell_type": "markdown",
      "source": [
        "Regression problems involve predicting a continuous numeric value based on input features. Given the attributes in the metro train dataset, here are a few potential regression problems:\n",
        "\n",
        "1. **Predict Motor Current:** Given sensor readings such as 'TP2', 'TP3', 'H1', and 'Oil_temperature', predict the 'Motor_current' value, which represents the electrical current consumed by the motor. This could be valuable for monitoring motor health and efficiency.\n",
        "\n",
        "2. **Oil Temperature Prediction:** Use attributes like 'TP2', 'TP3', 'H1', and 'Motor_current' to predict the 'Oil_temperature'. Accurate prediction of oil temperature is crucial for maintaining optimal compressor operation and preventing overheating.\n",
        "\n",
        "3. **Air Pressure Prediction:** Given sensor readings like 'TP2', 'TP3', 'H1', and 'Oil_temperature', predict the 'DV_pressure' or other pressure-related attributes. Accurate pressure prediction is essential for maintaining safe and efficient compressor operation.\n",
        "\n",
        "4. **Estimating Reservoir Levels ('Reservoirs'):** Predict the levels of the 'Reservoirs' using other attributes. This could help in maintaining appropriate fluid levels and preventing issues due to under- or overfilling.\n",
        "\n"
      ],
      "metadata": {
        "id": "ymvarnCtrqyR"
      }
    },
    {
      "cell_type": "markdown",
      "source": [
        "**Selecting the Most Interesting Problem:**\n",
        "\n",
        "Choosing the most interesting problem depends on goals, domain expertise, and the potential impact of solving the problem. However, one problem that stands out is predicting the 'Motor_current'. Motor current consumption is a crucial indicator of the motor's health, efficiency, and potential issues. By accurately predicting motor current, you could:\n",
        "\n",
        "- Identify abnormal motor behavior or impending failures.\n",
        "- Optimize energy consumption by understanding how motor current changes in different operating conditions.\n",
        "- Schedule maintenance more effectively, preventing unexpected breakdowns.\n",
        "- Enhance passenger safety by addressing potential motor-related risks.\n",
        "- Solving this problem would likely have a direct impact on the overall reliability, efficiency, and safety of the metro train system."
      ],
      "metadata": {
        "id": "ot__wTfor5YT"
      }
    },
    {
      "cell_type": "markdown",
      "source": [
        "\n",
        "\n",
        "**Predicting Motor Current ('Motor_current'):**\n",
        "\n",
        "**Reasons for Choosing this Problem:**\n",
        "\n",
        "1. **Operational Significance:** Motor current consumption is a critical operational parameter in a metro train's compressor system. It directly relates to the health and performance of the motor driving the compressor.\n",
        "\n",
        "2. **Safety and Reliability:** Accurate predictions of motor current can help in ensuring the safety and reliability of the metro train system. Any anomalies or deviations from expected motor current levels could indicate potential issues or wear and tear.\n",
        "\n",
        "3. **Energy Efficiency:** Motor current is closely linked to energy efficiency. Predicting motor current allows for optimizing energy consumption, which is essential for cost savings and environmental sustainability.\n",
        "\n",
        "4. **Maintenance Planning:** Predictive modeling of motor current can enable proactive maintenance planning. Detecting abnormal current spikes or drops can trigger maintenance interventions before critical failures occur, minimizing downtime.\n",
        "\n",
        "5. **Data Availability:** Motor current data is often readily available in such systems, making it a practical choice for predictive modeling.\n",
        "\n",
        "6. **Real-time Monitoring:** Accurate motor current predictions can support real-time monitoring, allowing for immediate responses to any deviations from expected current levels.\n",
        "\n",
        "\n"
      ],
      "metadata": {
        "id": "cf7ljSULsKRI"
      }
    },
    {
      "cell_type": "markdown",
      "source": [
        "### T3. Build an end-to-end Machine Learning pipeline for your assigned dataset for the aforementioned most interesting regression problems found in T2.\n"
      ],
      "metadata": {
        "id": "4_2_jDhDirz0"
      }
    },
    {
      "cell_type": "markdown",
      "source": [
        "Your pipeline should\n",
        "include components for dataset preprocessing, transformation, regression model building\n",
        "hyperparameter tuning, grid search or optimization, and evaluation. Report results on the\n",
        "regression models with hyperparameter tuning, and report the best hyperparameter\n",
        "values. Report results using at least two relevant evaluation metrics like RMSE,MAE.\n",
        "Compare results for different models and give the reasoning for that."
      ],
      "metadata": {
        "id": "k53A4PLHjnpj"
      }
    },
    {
      "cell_type": "code",
      "execution_count": null,
      "metadata": {
        "id": "uu5MQX3Oh-nn"
      },
      "outputs": [],
      "source": []
    }
  ]
}